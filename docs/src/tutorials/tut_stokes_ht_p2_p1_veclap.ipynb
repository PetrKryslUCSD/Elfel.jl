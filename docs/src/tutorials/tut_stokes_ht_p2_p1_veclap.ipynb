{
 "cells": [
  {
   "cell_type": "markdown",
   "source": [
    "# Solve the Stokes equation of colliding flow: vector Laplacian version"
   ],
   "metadata": {}
  },
  {
   "cell_type": "markdown",
   "source": [
    "Synopsis: Compute the solution of the Stokes equation of two-dimensional\n",
    "incompressible viscous flow for a manufactured problem of colliding flow.\n",
    "Hood-Taylor triangular elements are used."
   ],
   "metadata": {}
  },
  {
   "cell_type": "markdown",
   "source": [
    "The \"manufactured\" colliding flow example from Elman et al 2014. The\n",
    "Hood-Taylor formulation with quadratic triangles for the velocity and\n",
    "continuous pressure on linear triangles."
   ],
   "metadata": {}
  },
  {
   "cell_type": "markdown",
   "source": [
    "The pressure is shown here with contours, and the velocities visualized with\n",
    "arrows at random points.\n",
    "![Pressure and velocity](colliding.png)"
   ],
   "metadata": {}
  },
  {
   "cell_type": "markdown",
   "source": [
    "The formulation is the one derived in Donea, Huerta, Introduction to the\n",
    "finite element method, 1993. Page 486 ff, and Elman, et al., Finite elements\n",
    "and fast iterative solvers, p. 132. In brief, it is the vector\n",
    "Laplacian version."
   ],
   "metadata": {}
  },
  {
   "cell_type": "markdown",
   "source": [
    "The complete code is in the file [`tut_stokes_ht_p2_p1_veclap.jl`](tut_stokes_ht_p2_p1_veclap.jl)."
   ],
   "metadata": {}
  },
  {
   "cell_type": "markdown",
   "source": [
    "The solution will be defined  within a module in order to eliminate conflicts\n",
    "with data or functions defined elsewhere."
   ],
   "metadata": {}
  },
  {
   "outputs": [],
   "cell_type": "code",
   "source": [
    "module tut_stokes_ht_p2_p1_veclap"
   ],
   "metadata": {},
   "execution_count": null
  },
  {
   "cell_type": "markdown",
   "source": [
    "We'll need some functionality from linear algebra, static arrays, and the mesh\n",
    "libraries. Some plotting will be produced to visualize structure of the\n",
    "stiffness matrix. Finally we will need the `Elfel` functionality."
   ],
   "metadata": {}
  },
  {
   "outputs": [],
   "cell_type": "code",
   "source": [
    "using LinearAlgebra\n",
    "using StaticArrays\n",
    "using MeshCore.Exports\n",
    "using MeshSteward.Exports\n",
    "using Elfel.Exports\n",
    "using UnicodePlots"
   ],
   "metadata": {},
   "execution_count": null
  },
  {
   "cell_type": "markdown",
   "source": [
    "The boundary value problem is expressed in this weak form\n",
    "$$\n",
    " \\int_{V}\\mu {\\underline{\\nabla}}\\;\\underline{\\delta v}\\; :\\;\n",
    "{\\underline{\\nabla}}\\;\\underline{u}\\; \\mathrm{d} V\n",
    "- \\int_{V} \\mathrm{div}(\\underline{\\delta v})\\; p\\; \\mathrm{d} V = 0,\\quad \\forall \\underline{\\delta v}\n",
    "$$\n",
    "$$\n",
    " - \\int_{V} \\delta q\\; \\mathrm{div}(\\underline{u}) \\; \\mathrm{d} V = 0,\\quad \\forall \\delta q\n",
    "$$\n",
    "Here ``\\underline{\\delta v}`` are the test functions in the velocity space,\n",
    "and ``\\delta q`` are the pressure test functions. Further ``\\underline\n",
    "{u}`` is the trial velocity, and ``p`` is the trial pressure. The operator\n",
    "``:`` produces the componentwise scalar product of the gradients,\n",
    "$$\n",
    "A\\; :\\;B = A_{ij}B_{ij}``.\n",
    "$$\n",
    "Then the first term may be rewritten as\n",
    "$$\n",
    "{\\underline{\\nabla}}\\;\\underline{\\delta v}\\; :\\;\n",
    "{\\underline{\\nabla}}\\;\\underline{u} =\n",
    "(\\underline{\\nabla}\\delta v_x)^T \\underline{\\nabla}u_x +\n",
    "(\\underline{\\nabla}\\delta v_y)^T \\underline{\\nabla}u_y\n",
    "$$"
   ],
   "metadata": {}
  },
  {
   "outputs": [],
   "cell_type": "code",
   "source": [
    "function run()\n",
    "    mu = 1.0 # dynamic viscosity\n",
    "    A = 1.0 # half of the length of the side of the square\n",
    "    N = 100 # number of element edges per side of the square"
   ],
   "metadata": {},
   "execution_count": null
  },
  {
   "cell_type": "markdown",
   "source": [
    "These three functions define the true velocity components and the true\n",
    "pressure."
   ],
   "metadata": {}
  },
  {
   "outputs": [],
   "cell_type": "code",
   "source": [
    "    trueux = (x, y) -> 20 * x * y ^ 3\n",
    "    trueuy = (x, y) -> 5 * x ^ 4 - 5 * y ^ 4\n",
    "    truep = (x, y) -> 60 * x ^ 2 * y - 20 * y ^ 3"
   ],
   "metadata": {},
   "execution_count": null
  },
  {
   "cell_type": "markdown",
   "source": [
    "Construct the two meshes for the mixed method. They need to support the\n",
    "velocity and pressure spaces."
   ],
   "metadata": {}
  },
  {
   "outputs": [],
   "cell_type": "code",
   "source": [
    "    vmesh, pmesh = genmesh(A, N)"
   ],
   "metadata": {},
   "execution_count": null
  },
  {
   "cell_type": "markdown",
   "source": [
    "Construct the velocity space: it is a vector space with two components. The\n",
    "degrees of freedom are real numbers (`Float64`). The velocity mesh\n",
    "carries the finite elements of  the continuity ``H ^1``, i. e. both the\n",
    "function values and the derivatives are square integrable. Each node\n",
    "carries 2 degrees of freedom, hence there are two velocity components per\n",
    "node."
   ],
   "metadata": {}
  },
  {
   "outputs": [],
   "cell_type": "code",
   "source": [
    "    Uh = FESpace(Float64, vmesh, FEH1_T6(), 2)"
   ],
   "metadata": {},
   "execution_count": null
  },
  {
   "cell_type": "markdown",
   "source": [
    "Now we apply the boundary conditions at the nodes around the\n",
    "circumference."
   ],
   "metadata": {}
  },
  {
   "outputs": [],
   "cell_type": "code",
   "source": [
    "    locs = geometry(vmesh)"
   ],
   "metadata": {},
   "execution_count": null
  },
  {
   "cell_type": "markdown",
   "source": [
    "We use searching based on the presence of the node within a box. The\n",
    "entire boundary will be captured within these four boxes, provided we\n",
    "inflate those boxes with a little tolerance (we can't rely on those\n",
    "nodes to be precisely at the coordinates given, we need to introduce some\n",
    "tolerance)."
   ],
   "metadata": {}
  },
  {
   "outputs": [],
   "cell_type": "code",
   "source": [
    "    boxes = [[-A A -A -A], [-A -A -A A], [A A -A A], [-A A A A]]\n",
    "    inflate = A / N / 100\n",
    "    for box in boxes\n",
    "        vl = vselect(locs; box = box, inflate = inflate)\n",
    "        for i in vl"
   ],
   "metadata": {},
   "execution_count": null
  },
  {
   "cell_type": "markdown",
   "source": [
    "Remember that all  components of the velocity are known at the\n",
    "boundary."
   ],
   "metadata": {}
  },
  {
   "outputs": [],
   "cell_type": "code",
   "source": [
    "            setebc!(Uh, 0, i, 1, trueux(locs[i]...))\n",
    "            setebc!(Uh, 0, i, 2, trueuy(locs[i]...))\n",
    "        end\n",
    "    end"
   ],
   "metadata": {},
   "execution_count": null
  },
  {
   "cell_type": "markdown",
   "source": [
    "No we construct the pressure space. It is a continuous, piecewise linear\n",
    "space supported on a mesh of three-node triangles."
   ],
   "metadata": {}
  },
  {
   "outputs": [],
   "cell_type": "code",
   "source": [
    "    Ph = FESpace(Float64, pmesh, FEH1_T3(), 1)"
   ],
   "metadata": {},
   "execution_count": null
  },
  {
   "cell_type": "markdown",
   "source": [
    "The pressure in this \"enclosed\" flow example is only known up to a constant.\n",
    "By setting  pressure degree of freedom at one node will make the solution\n",
    "unique."
   ],
   "metadata": {}
  },
  {
   "outputs": [],
   "cell_type": "code",
   "source": [
    "    atcenter = vselect(geometry(pmesh); nearestto = [0.0, 0.0])\n",
    "    setebc!(Ph, 0, atcenter[1], 1, 0.0)"
   ],
   "metadata": {},
   "execution_count": null
  },
  {
   "cell_type": "markdown",
   "source": [
    "Number the degrees of freedom. First all the free degrees of freedom are\n",
    "numbered, both velocities and pressures. Next all the data degrees of\n",
    "freedom are numbered, again both for the velocities and for the\n",
    "pressures."
   ],
   "metadata": {}
  },
  {
   "outputs": [],
   "cell_type": "code",
   "source": [
    "    numberdofs!([Uh, Ph])"
   ],
   "metadata": {},
   "execution_count": null
  },
  {
   "cell_type": "markdown",
   "source": [
    "The total number of degrees of freedom is now calculated."
   ],
   "metadata": {}
  },
  {
   "outputs": [],
   "cell_type": "code",
   "source": [
    "    tndof = ndofs(Uh) + ndofs(Ph)"
   ],
   "metadata": {},
   "execution_count": null
  },
  {
   "cell_type": "markdown",
   "source": [
    "As is the total number of unknowns."
   ],
   "metadata": {}
  },
  {
   "outputs": [],
   "cell_type": "code",
   "source": [
    "    tnunk = nunknowns(Uh) + nunknowns(Ph)"
   ],
   "metadata": {},
   "execution_count": null
  },
  {
   "cell_type": "markdown",
   "source": [
    "Assemble the coefficient matrix."
   ],
   "metadata": {}
  },
  {
   "outputs": [],
   "cell_type": "code",
   "source": [
    "    K = assembleK(Uh, Ph, tndof, mu)"
   ],
   "metadata": {},
   "execution_count": null
  },
  {
   "cell_type": "markdown",
   "source": [
    "Display the structure of the indefinite stiffness matrix. Note that this\n",
    "is the complete matrix, including rows and columns for all the degrees of\n",
    "freedom, unknown and known."
   ],
   "metadata": {}
  },
  {
   "outputs": [],
   "cell_type": "code",
   "source": [
    "    p = spy(K, canvas = DotCanvas)\n",
    "    display(p)"
   ],
   "metadata": {},
   "execution_count": null
  },
  {
   "cell_type": "markdown",
   "source": [
    "Solve the linear algebraic system. First construct system vector of all\n",
    "the degrees of freedom, in the first `tnunk` rows that corresponds to the\n",
    "unknowns, and the subsequent rows are for the data degrees of freedom."
   ],
   "metadata": {}
  },
  {
   "outputs": [],
   "cell_type": "code",
   "source": [
    "    U = fill(0.0, tndof)\n",
    "    gathersysvec!(U, [Uh, Ph])"
   ],
   "metadata": {},
   "execution_count": null
  },
  {
   "cell_type": "markdown",
   "source": [
    "Note that  the vector `U` consists of nonzero numbers in rows are for the\n",
    "data degrees of freedom. Multiplying the stiffness matrix with this\n",
    "vector will generate a load vector  on the right-hand side. Otherwise\n",
    "there is no loading, hence the vector `F` consists of all zeros."
   ],
   "metadata": {}
  },
  {
   "outputs": [],
   "cell_type": "code",
   "source": [
    "    F = fill(0.0, tndof)\n",
    "    solve!(U, K, F, tnunk)"
   ],
   "metadata": {},
   "execution_count": null
  },
  {
   "cell_type": "markdown",
   "source": [
    "Once we have solved the system of linear equations, we can distribute the\n",
    "solution from the vector `U` into the finite element spaces."
   ],
   "metadata": {}
  },
  {
   "outputs": [],
   "cell_type": "code",
   "source": [
    "    scattersysvec!([Uh, Ph], U)"
   ],
   "metadata": {},
   "execution_count": null
  },
  {
   "cell_type": "markdown",
   "source": [
    "Given that the solution is manufactured, i. e. exactly known, we can\n",
    "calculate the true errors."
   ],
   "metadata": {}
  },
  {
   "outputs": [],
   "cell_type": "code",
   "source": [
    "    @show ep = evaluate_pressure_error(Ph, truep)\n",
    "    @show ev = evaluate_velocity_error(Uh, trueux, trueuy)"
   ],
   "metadata": {},
   "execution_count": null
  },
  {
   "cell_type": "markdown",
   "source": [
    "Postprocessing. First we make attributes, scalar nodal attributes,\n",
    "associated with the meshes for the pressures and the velocity."
   ],
   "metadata": {}
  },
  {
   "outputs": [],
   "cell_type": "code",
   "source": [
    "    makeattribute(Ph, \"p\", 1)\n",
    "    makeattribute(Uh, \"ux\", 1)\n",
    "    makeattribute(Uh, \"uy\", 2)"
   ],
   "metadata": {},
   "execution_count": null
  },
  {
   "cell_type": "markdown",
   "source": [
    "The pressure and the velocity components are then written out into two VTK\n",
    "files."
   ],
   "metadata": {}
  },
  {
   "outputs": [],
   "cell_type": "code",
   "source": [
    "    vtkwrite(\"tut_stokes_ht_p2_p1_veclap-p\", baseincrel(pmesh), [(name = \"p\",), ])\n",
    "    vtkwrite(\"tut_stokes_ht_p2_p1_veclap-v\", baseincrel(vmesh), [(name = \"ux\",), (name = \"uy\",)])"
   ],
   "metadata": {},
   "execution_count": null
  },
  {
   "cell_type": "markdown",
   "source": [
    "The  method converges very well, but, why not, here is the true pressure\n",
    "written out into a VTK file as well. We create a synthetic attribute by\n",
    "evaluating the true pressure at the locations of the nodes  of the\n",
    "pressure mesh."
   ],
   "metadata": {}
  },
  {
   "outputs": [],
   "cell_type": "code",
   "source": [
    "    geom = geometry(Ph.mesh)\n",
    "    ir = baseincrel(Ph.mesh)\n",
    "    ir.right.attributes[\"pt\"] = VecAttrib([truep(geom[i]...) for i in 1:length(geom)])\n",
    "    vtkwrite(\"tut_stokes_ht_p2_p1_veclap-pt\", baseincrel(pmesh), [(name = \"pt\",), ])\n",
    "\n",
    "    return true\n",
    "end\n",
    "\n",
    "function genmesh(A, N)"
   ],
   "metadata": {},
   "execution_count": null
  },
  {
   "cell_type": "markdown",
   "source": [
    "Hood-Taylor pair of meshes is needed. The first mesh is for the\n",
    "velocities, composed of six-node triangles."
   ],
   "metadata": {}
  },
  {
   "outputs": [],
   "cell_type": "code",
   "source": [
    "    vmesh = attach!(Mesh(), T6block(2 * A, 2 * A, N, N), \"velocity\")"
   ],
   "metadata": {},
   "execution_count": null
  },
  {
   "cell_type": "markdown",
   "source": [
    "Now translate so that the center of the square is at the origin of the\n",
    "coordinates."
   ],
   "metadata": {}
  },
  {
   "outputs": [],
   "cell_type": "code",
   "source": [
    "    ir = baseincrel(vmesh)\n",
    "    transform(ir, x -> x .- A)"
   ],
   "metadata": {},
   "execution_count": null
  },
  {
   "cell_type": "markdown",
   "source": [
    "The second mesh is used for the pressures, and it is composed of\n",
    "three-node triangles such that the corner nodes are shared between the\n",
    "first and the second mesh."
   ],
   "metadata": {}
  },
  {
   "outputs": [],
   "cell_type": "code",
   "source": [
    "    pmesh = attach!(Mesh(), T6toT3(baseincrel(vmesh, \"velocity\")), \"pressure\")"
   ],
   "metadata": {},
   "execution_count": null
  },
  {
   "cell_type": "markdown",
   "source": [
    "Return the pair of meshes"
   ],
   "metadata": {}
  },
  {
   "outputs": [],
   "cell_type": "code",
   "source": [
    "    return vmesh, pmesh\n",
    "end\n",
    "\n",
    "function assembleK(Uh, Ph, tndof, mu)\n",
    "    function integrate!(ass, elits, qpits, mu)"
   ],
   "metadata": {},
   "execution_count": null
  },
  {
   "cell_type": "markdown",
   "source": [
    "This array defines the components for the element degrees of freedom:\n",
    "``c(i)`` is 1 or 2."
   ],
   "metadata": {}
  },
  {
   "outputs": [],
   "cell_type": "code",
   "source": [
    "        c = edofcompnt(Uh)"
   ],
   "metadata": {},
   "execution_count": null
  },
  {
   "cell_type": "markdown",
   "source": [
    "These are the totals of the velocity and pressure degrees of freedom\n",
    "per element."
   ],
   "metadata": {}
  },
  {
   "outputs": [],
   "cell_type": "code",
   "source": [
    "        n_du, n_dp = ndofsperel.((Uh, Ph))"
   ],
   "metadata": {},
   "execution_count": null
  },
  {
   "cell_type": "markdown",
   "source": [
    "The local matrix assemblers are used as if they were ordinary\n",
    "elementwise dense matrices. Here they are defined."
   ],
   "metadata": {}
  },
  {
   "outputs": [],
   "cell_type": "code",
   "source": [
    "        kuu = LocalMatrixAssembler(n_du, n_du, 0.0)\n",
    "        kup = LocalMatrixAssembler(n_du, n_dp, 0.0)\n",
    "        for el in zip(elits...)\n",
    "            uel, pel = el"
   ],
   "metadata": {},
   "execution_count": null
  },
  {
   "cell_type": "markdown",
   "source": [
    "The local matrix assemblers are initialized with zeros for the\n",
    "values, and with the element degree of freedom vectors to be used\n",
    "in the assembly. The assembler `kuu` is used for the velocity\n",
    "degrees of freedom, and the assembler `kup` collect the coupling\n",
    "coefficients between the velocity and the pressure. The function\n",
    "`eldofs` collects the global numbers of the degrees of freedom\n",
    "either for the velocity space, or for the pressure space\n",
    "(`eldofs(pel)`)."
   ],
   "metadata": {}
  },
  {
   "outputs": [],
   "cell_type": "code",
   "source": [
    "            init!(kuu, eldofs(uel), eldofs(uel))\n",
    "            init!(kup, eldofs(uel), eldofs(pel))\n",
    "            for qp in zip(qpits...)\n",
    "                uqp, pqp = qp"
   ],
   "metadata": {},
   "execution_count": null
  },
  {
   "cell_type": "markdown",
   "source": [
    "The integration is performed using the velocity quadrature points."
   ],
   "metadata": {}
  },
  {
   "outputs": [],
   "cell_type": "code",
   "source": [
    "                Jac, J = jacjac(uel, uqp)\n",
    "                JxW = J * weight(uqp)\n",
    "                gradNu = bfungrad(uqp, Jac) # gradients of the velocity basis functions\n",
    "                Np = bfun(pqp) # pressure basis functions"
   ],
   "metadata": {},
   "execution_count": null
  },
  {
   "cell_type": "markdown",
   "source": [
    "This double loop corresponds precisely to the integrals of the\n",
    "weak form: dot product of the gradients of the basis\n",
    "functions. This is the  matrix in the upper left corner."
   ],
   "metadata": {}
  },
  {
   "outputs": [],
   "cell_type": "code",
   "source": [
    "                for i in 1:n_du, j in 1:n_du\n",
    "                    if c[i] == c[j]\n",
    "                        kuu[j, i] += (mu * JxW) * (dot(gradNu[j], gradNu[i]))\n",
    "                    end\n",
    "                end"
   ],
   "metadata": {},
   "execution_count": null
  },
  {
   "cell_type": "markdown",
   "source": [
    "And this is the coupling matrix in the top right corner."
   ],
   "metadata": {}
  },
  {
   "outputs": [],
   "cell_type": "code",
   "source": [
    "                for i in 1:n_dp, j in 1:n_du\n",
    "                    kup[j, i] += gradNu[j][c[j]] * (-JxW * Np[i])\n",
    "                end\n",
    "            end"
   ],
   "metadata": {},
   "execution_count": null
  },
  {
   "cell_type": "markdown",
   "source": [
    "Assemble the matrices. The submatrix off the diagonal is assembled\n",
    "twice, once as itself, and once as its transpose."
   ],
   "metadata": {}
  },
  {
   "outputs": [],
   "cell_type": "code",
   "source": [
    "            assemble!(ass, kuu)\n",
    "            assemble!(ass, kup) # top right corner\n",
    "            assemble!(ass, transpose(kup)) # bottom left corner\n",
    "        end\n",
    "        return ass # return the updated assembler of the global matrix\n",
    "    end"
   ],
   "metadata": {},
   "execution_count": null
  },
  {
   "cell_type": "markdown",
   "source": [
    "In the `assembleK` function we first we create the element iterators. We\n",
    "can go through all the elements, both in the velocity finite element\n",
    "space and in the pressure finite element space, that define the domain of\n",
    "integration using this iterator. Each time a new element is accessed,\n",
    "some data are precomputed such as the element degrees of freedom,\n",
    "components of the degree of freedom, etc. Note that we need to iterate\n",
    "two finite element spaces, hence we create a tuple of iterators."
   ],
   "metadata": {}
  },
  {
   "outputs": [],
   "cell_type": "code",
   "source": [
    "    elits = (FEIterator(Uh), FEIterator(Ph))"
   ],
   "metadata": {},
   "execution_count": null
  },
  {
   "cell_type": "markdown",
   "source": [
    "These are the quadrature point iterators. We know that the elements are\n",
    "triangular. We choose the three-point rule, to capture the quadratic\n",
    "component in the velocity space. Quadrature-point iterators provide\n",
    "access to basis function values and gradients, the Jacobian matrix and\n",
    "the Jacobian determinant, the location of the quadrature point and so\n",
    "on. Note that we need to iterate the quadrature rules of\n",
    "two finite element spaces, hence we create a tuple of iterators."
   ],
   "metadata": {}
  },
  {
   "outputs": [],
   "cell_type": "code",
   "source": [
    "    qargs = (kind = :default, npts = 3,)\n",
    "    qpits = (QPIterator(Uh, qargs), QPIterator(Ph, qargs))"
   ],
   "metadata": {},
   "execution_count": null
  },
  {
   "cell_type": "markdown",
   "source": [
    "The matrix will be assembled into this assembler. Which is initialized\n",
    "with the total number of degrees of freedom (dimension of the coefficient\n",
    "matrix before partitioning into unknowns and data degrees of freedom)."
   ],
   "metadata": {}
  },
  {
   "outputs": [],
   "cell_type": "code",
   "source": [
    "    ass = SysmatAssemblerSparse(0.0)\n",
    "    start!(ass, tndof, tndof)"
   ],
   "metadata": {},
   "execution_count": null
  },
  {
   "cell_type": "markdown",
   "source": [
    "The integration is carried out, and then..."
   ],
   "metadata": {}
  },
  {
   "outputs": [],
   "cell_type": "code",
   "source": [
    "    integrate!(ass, elits, qpits, mu)"
   ],
   "metadata": {},
   "execution_count": null
  },
  {
   "cell_type": "markdown",
   "source": [
    "...we materialize the sparse stiffness matrix and return it."
   ],
   "metadata": {}
  },
  {
   "outputs": [],
   "cell_type": "code",
   "source": [
    "    return finish!(ass)\n",
    "end"
   ],
   "metadata": {},
   "execution_count": null
  },
  {
   "cell_type": "markdown",
   "source": [
    "The linear algebraic system is solved by partitioning. The vector `U` is\n",
    "initially all zero, except in the degrees of freedom which are prescribed as\n",
    "nonzero. Therefore the product of the stiffness matrix and the vector `U`\n",
    "are the loads due to nonzero essential boundary conditions.  The\n",
    "submatrix of the stiffness conduction matrix corresponding to the free degrees of\n",
    "freedom (unknowns), `K[1:nu, 1:nu]` is then used to solve for the unknowns `U\n",
    "[1:nu]`."
   ],
   "metadata": {}
  },
  {
   "outputs": [],
   "cell_type": "code",
   "source": [
    "function solve!(U, K, F, nu)\n",
    "    KT = K * U\n",
    "    U[1:nu] = K[1:nu, 1:nu] \\ (F[1:nu] - KT[1:nu])\n",
    "end"
   ],
   "metadata": {},
   "execution_count": null
  },
  {
   "cell_type": "markdown",
   "source": [
    "The function `evaluate_pressure_error` evaluates the true ``L^2``  error of\n",
    "the pressure. It does that by integrating the square of the difference\n",
    "between the approximate pressure and the  true pressure, the true pressure\n",
    "being provided by the `truep` function."
   ],
   "metadata": {}
  },
  {
   "outputs": [],
   "cell_type": "code",
   "source": [
    "function evaluate_pressure_error(Ph, truep)\n",
    "    function integrate!(elit, qpit, truep)\n",
    "        n_dp = ndofsperel(elit)\n",
    "        E = 0.0\n",
    "        for el in elit\n",
    "            dofvals = eldofvals(el)\n",
    "            for qp in qpit\n",
    "                Jac, J = jacjac(el, qp)\n",
    "                JxW = J * weight(qp)\n",
    "                Np = bfun(qp)\n",
    "                pt = truep(location(el, qp)...)\n",
    "                pa = 0.0\n",
    "                for j in 1:n_dp\n",
    "                    pa += (dofvals[j] * Np[j])\n",
    "                end\n",
    "                E += (JxW) * (pa - pt)^2\n",
    "            end\n",
    "        end\n",
    "        return sqrt(E)\n",
    "    end\n",
    "\n",
    "    elit = FEIterator(Ph)\n",
    "    qargs = (kind = :default, npts = 3,)\n",
    "    qpit = QPIterator(Ph, qargs)\n",
    "    return integrate!(elit, qpit, truep)\n",
    "end"
   ],
   "metadata": {},
   "execution_count": null
  },
  {
   "cell_type": "markdown",
   "source": [
    "The function `evaluate_velocity_error` evaluates the true ``L^2``  error of\n",
    "the velocity. It does that by integrating the square of the difference\n",
    "between the approximate pressure and the  true velocity, the true velocity\n",
    "being provided by the `trueux`, `trueuy` functions."
   ],
   "metadata": {}
  },
  {
   "outputs": [],
   "cell_type": "code",
   "source": [
    "function evaluate_velocity_error(Uh, trueux, trueuy)\n",
    "    function integrate!(elit, qpit, trueux, trueuy)\n",
    "        n_du = ndofsperel(elit)\n",
    "        uedofcomp = edofcompnt(Uh)\n",
    "        E = 0.0\n",
    "        for el in elit\n",
    "            udofvals = eldofvals(el)\n",
    "            for qp in qpit\n",
    "                Jac, J = jacjac(el, qp)\n",
    "                JxW = J * weight(qp)\n",
    "                Nu = bfun(qp)\n",
    "                uxt = trueux(location(el, qp)...)\n",
    "                uyt = trueuy(location(el, qp)...)\n",
    "                uxa = 0.0\n",
    "                uya = 0.0\n",
    "                for j in 1:n_du\n",
    "                    (uedofcomp[j] == 1) && (uxa += (udofvals[j] * Nu[j]))\n",
    "                    (uedofcomp[j] == 2) && (uya += (udofvals[j] * Nu[j]))\n",
    "                end\n",
    "                E += (JxW) * ((uxa - uxt)^2 + (uya - uyt)^2)\n",
    "            end\n",
    "        end\n",
    "        return sqrt(E)\n",
    "    end\n",
    "\n",
    "    elit = FEIterator(Uh)\n",
    "    qargs = (kind = :default, npts = 3,)\n",
    "    qpit = QPIterator(Uh, qargs)\n",
    "    return integrate!(elit, qpit, trueux, trueuy)\n",
    "end\n",
    "\n",
    "end"
   ],
   "metadata": {},
   "execution_count": null
  },
  {
   "cell_type": "markdown",
   "source": [
    "To run the example, evaluate this file which will  compile the module\n",
    "`.tut_stokes_ht_p2_p1_veclap`."
   ],
   "metadata": {}
  },
  {
   "outputs": [],
   "cell_type": "code",
   "source": [
    "using .tut_stokes_ht_p2_p1_veclap\n",
    "tut_stokes_ht_p2_p1_veclap.run()"
   ],
   "metadata": {},
   "execution_count": null
  },
  {
   "cell_type": "markdown",
   "source": [
    "---\n",
    "\n",
    "*This notebook was generated using [Literate.jl](https://github.com/fredrikekre/Literate.jl).*"
   ],
   "metadata": {}
  }
 ],
 "nbformat_minor": 3,
 "metadata": {
  "language_info": {
   "file_extension": ".jl",
   "mimetype": "application/julia",
   "name": "julia",
   "version": "1.6.0-DEV.227"
  },
  "kernelspec": {
   "name": "julia-1.6",
   "display_name": "Julia 1.6.0-DEV.227",
   "language": "julia"
  }
 },
 "nbformat": 4
}
