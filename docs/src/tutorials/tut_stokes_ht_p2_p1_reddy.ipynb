{
 "cells": [
  {
   "cell_type": "markdown",
   "source": [
    "# Solve the Stokes equation of colliding flow: Reddy formulation"
   ],
   "metadata": {}
  },
  {
   "cell_type": "markdown",
   "source": [
    "Synopsis: Compute the solution of the Stokes equation of two-dimensional\n",
    "incompressible viscous flow for a manufactured problem of colliding flow.\n",
    "Hood-Taylor triangular elements are used."
   ],
   "metadata": {}
  },
  {
   "cell_type": "markdown",
   "source": [
    "The \"manufactured\" colliding flow example from Elman et al 2014. The\n",
    "Hood-Taylor formulation with quadratic triangles for the velocity and\n",
    "continuous pressure on linear triangles."
   ],
   "metadata": {}
  },
  {
   "cell_type": "markdown",
   "source": [
    "The pressure is shown here with contours, and the velocities visualized with\n",
    "arrows at random points.\n",
    "![Pressure and velocity](colliding.png)"
   ],
   "metadata": {}
  },
  {
   "cell_type": "markdown",
   "source": [
    "The formulation is the one derived in Reddy, Introduction to the finite\n",
    "element method, 1993. Page 486 ff."
   ],
   "metadata": {}
  },
  {
   "cell_type": "markdown",
   "source": [
    "The complete code is in the file [`tut_stokes_ht_p2_p1_reddy.jl`](tut_stokes_ht_p2_p1_reddy.jl)."
   ],
   "metadata": {}
  },
  {
   "cell_type": "markdown",
   "source": [
    "The solution will be defined  within a module in order to eliminate conflicts\n",
    "with data or functions defined elsewhere."
   ],
   "metadata": {}
  },
  {
   "outputs": [],
   "cell_type": "code",
   "source": [
    "module tut_stokes_ht_p2_p1_reddy"
   ],
   "metadata": {},
   "execution_count": null
  },
  {
   "cell_type": "markdown",
   "source": [
    "We'll need some functionality from linear algebra, static arrays, and the mesh\n",
    "libraries. Some plotting will be produced to visualize structure of the\n",
    "stiffness matrix. Finally we will need the `Elfel` functionality."
   ],
   "metadata": {}
  },
  {
   "outputs": [],
   "cell_type": "code",
   "source": [
    "using LinearAlgebra\n",
    "using StaticArrays\n",
    "using MeshCore.Exports\n",
    "using MeshSteward.Exports\n",
    "using Elfel.Exports\n",
    "using UnicodePlots"
   ],
   "metadata": {},
   "execution_count": null
  },
  {
   "cell_type": "markdown",
   "source": [
    "The boundary value problem is expressed in this weak form\n",
    "$$\n",
    "\\int_{\\Omega} \\left(2\\mu\\frac{\\partial{w_x}}{\\partial{x}}\\frac{\\partial{u_x}}{\\partial{x}}\n",
    "+\\mu\\frac{\\partial{w_x}}{\\partial{y}}\\left(\\frac{\\partial{u_x}}{\\partial{y}}+\\frac{\\partial{u_y}}{\\partial{x}}\\right)  - \\frac{\\partial{w_x}}{\\partial{x}} p \\right) d\\Omega  = 0\n",
    "$$\n",
    "$$\n",
    "\\int_{\\Omega} \\left(2\\mu\\frac{\\partial{w_y}}{\\partial{y}}\\frac{\\partial{u_y}}{\\partial{y}}\n",
    "+\\mu\\frac{\\partial{w_y}}{\\partial{x}}\\left(\\frac{\\partial{u_x}}{\\partial{y}}+\\frac{\\partial{u_y}}{\\partial{x}}\\right)  - \\frac{\\partial{w_y}}{\\partial{y}} p \\right) d\\Omega  = 0\n",
    "$$\n",
    "$$\n",
    "-\\int_{\\Omega} q \\left(\\frac{\\partial{u_x}}{\\partial{x}} + \\frac{\\partial{u_y}}{\\partial{y}}\\right)d\\Omega = 0\n",
    "$$"
   ],
   "metadata": {}
  },
  {
   "cell_type": "markdown",
   "source": [
    "Here ``w_x, w_y`` are the test functions in the velocity space,\n",
    "and ``q`` is the pressure test functions. Further ``u_x, u_y`` is the trial velocity, and ``p`` is the trial pressure."
   ],
   "metadata": {}
  },
  {
   "outputs": [],
   "cell_type": "code",
   "source": [
    "function run()\n",
    "    mu = 1.0 # dynamic viscosity\n",
    "    A = 1.0 # half of the length of the side of the square\n",
    "    N = 100 # number of element edges per side of the square"
   ],
   "metadata": {},
   "execution_count": null
  },
  {
   "cell_type": "markdown",
   "source": [
    "These three functions define the true velocity components and the true\n",
    "pressure."
   ],
   "metadata": {}
  },
  {
   "outputs": [],
   "cell_type": "code",
   "source": [
    "    trueux = (x, y) -> 20 * x * y ^ 3\n",
    "    trueuy = (x, y) -> 5 * x ^ 4 - 5 * y ^ 4\n",
    "    truep = (x, y) -> 60 * x ^ 2 * y - 20 * y ^ 3"
   ],
   "metadata": {},
   "execution_count": null
  },
  {
   "cell_type": "markdown",
   "source": [
    "Construct the two meshes for the mixed method. They need to support the\n",
    "velocity and pressure spaces."
   ],
   "metadata": {}
  },
  {
   "outputs": [],
   "cell_type": "code",
   "source": [
    "    vmesh, pmesh = genmesh(A, N)"
   ],
   "metadata": {},
   "execution_count": null
  },
  {
   "cell_type": "markdown",
   "source": [
    "Construct the velocity spaces: As an alternative to a previous treatment\n",
    "with a single vector space for the velocity, here we will use to vector\n",
    "spaces, one for each component of the velocity. The degrees of freedom\n",
    "are real numbers (`Float64`). The velocity mesh carries the finite\n",
    "elements of  the continuity ``H ^1``, i. e. both the function values and\n",
    "the derivatives are square integrable. Each node carries just one degree of\n",
    "freedom (1)."
   ],
   "metadata": {}
  },
  {
   "outputs": [],
   "cell_type": "code",
   "source": [
    "    Uxh = FESpace(Float64, vmesh, FEH1_T6(), 1)\n",
    "    Uyh = FESpace(Float64, vmesh, FEH1_T6(), 1)"
   ],
   "metadata": {},
   "execution_count": null
  },
  {
   "cell_type": "markdown",
   "source": [
    "Now we apply the boundary conditions at the nodes around the\n",
    "circumference."
   ],
   "metadata": {}
  },
  {
   "outputs": [],
   "cell_type": "code",
   "source": [
    "    locs = geometry(vmesh)"
   ],
   "metadata": {},
   "execution_count": null
  },
  {
   "cell_type": "markdown",
   "source": [
    "We use searching based on the presence of the node within a box. The\n",
    "entire boundary will be captured within these four boxes, provided we\n",
    "inflate those boxes with a little tolerance (we can't rely on those\n",
    "nodes to be precisely at the coordinates given, we need to introduce some\n",
    "tolerance)."
   ],
   "metadata": {}
  },
  {
   "outputs": [],
   "cell_type": "code",
   "source": [
    "    boxes = [[-A A -A -A], [-A -A -A A], [A A -A A], [-A A A A]]\n",
    "    inflate = A / N / 100\n",
    "    for box in boxes\n",
    "        vl = vselect(locs; box = box, inflate = inflate)\n",
    "        for i in vl"
   ],
   "metadata": {},
   "execution_count": null
  },
  {
   "cell_type": "markdown",
   "source": [
    "Remember that all  components of the velocity are known at the\n",
    "boundary."
   ],
   "metadata": {}
  },
  {
   "outputs": [],
   "cell_type": "code",
   "source": [
    "            setebc!(Uxh, 0, i, 1, trueux(locs[i]...))\n",
    "            setebc!(Uyh, 0, i, 1, trueuy(locs[i]...))\n",
    "        end\n",
    "    end"
   ],
   "metadata": {},
   "execution_count": null
  },
  {
   "cell_type": "markdown",
   "source": [
    "No we construct the pressure space. It is a continuous, piecewise linear\n",
    "space supported on a mesh of three-node triangles."
   ],
   "metadata": {}
  },
  {
   "outputs": [],
   "cell_type": "code",
   "source": [
    "    Ph = FESpace(Float64, pmesh, FEH1_T3(), 1)"
   ],
   "metadata": {},
   "execution_count": null
  },
  {
   "cell_type": "markdown",
   "source": [
    "The pressure in this \"enclosed\" flow example is only known up to a constant.\n",
    "By setting  pressure degree of freedom at one node will make the solution\n",
    "unique."
   ],
   "metadata": {}
  },
  {
   "outputs": [],
   "cell_type": "code",
   "source": [
    "    atcenter = vselect(geometry(pmesh); nearestto = [0.0, 0.0])\n",
    "    setebc!(Ph, 0, atcenter[1], 1, 0.0)"
   ],
   "metadata": {},
   "execution_count": null
  },
  {
   "cell_type": "markdown",
   "source": [
    "Number the degrees of freedom. First all the free degrees of freedom are\n",
    "numbered, both velocities and pressures. Next all the data degrees of\n",
    "freedom are numbered, again both for the velocities and for the\n",
    "pressures."
   ],
   "metadata": {}
  },
  {
   "outputs": [],
   "cell_type": "code",
   "source": [
    "    numberdofs!([Uxh, Uyh, Ph])"
   ],
   "metadata": {},
   "execution_count": null
  },
  {
   "cell_type": "markdown",
   "source": [
    "The total number of degrees of freedom is now calculated."
   ],
   "metadata": {}
  },
  {
   "outputs": [],
   "cell_type": "code",
   "source": [
    "    tndof = ndofs(Uxh) + ndofs(Uyh) + ndofs(Ph)"
   ],
   "metadata": {},
   "execution_count": null
  },
  {
   "cell_type": "markdown",
   "source": [
    "As is the total number of unknowns."
   ],
   "metadata": {}
  },
  {
   "outputs": [],
   "cell_type": "code",
   "source": [
    "    tnunk = nunknowns(Uxh) + nunknowns(Uyh) + nunknowns(Ph)"
   ],
   "metadata": {},
   "execution_count": null
  },
  {
   "cell_type": "markdown",
   "source": [
    "Assemble the coefficient matrix."
   ],
   "metadata": {}
  },
  {
   "outputs": [],
   "cell_type": "code",
   "source": [
    "    K = assembleK(Uxh, Uyh, Ph, tndof, mu)"
   ],
   "metadata": {},
   "execution_count": null
  },
  {
   "cell_type": "markdown",
   "source": [
    "Display the structure of the indefinite stiffness matrix. Note that this\n",
    "is the complete matrix, including rows and columns for all the degrees of\n",
    "freedom, unknown and known."
   ],
   "metadata": {}
  },
  {
   "outputs": [],
   "cell_type": "code",
   "source": [
    "    p = spy(K, canvas = DotCanvas)\n",
    "    display(p)"
   ],
   "metadata": {},
   "execution_count": null
  },
  {
   "cell_type": "markdown",
   "source": [
    "Solve the linear algebraic system. First construct system vector of all\n",
    "the degrees of freedom, in the first `tnunk` rows that corresponds to the\n",
    "unknowns, and the subsequent rows are for the data degrees of freedom."
   ],
   "metadata": {}
  },
  {
   "outputs": [],
   "cell_type": "code",
   "source": [
    "    U = fill(0.0, tndof)\n",
    "    gathersysvec!(U, [Uxh, Uyh, Ph])"
   ],
   "metadata": {},
   "execution_count": null
  },
  {
   "cell_type": "markdown",
   "source": [
    "Note that  the vector `U` consists of nonzero numbers in rows are for the\n",
    "data degrees of freedom. Multiplying the stiffness matrix with this\n",
    "vector will generate a load vector  on the right-hand side. Otherwise\n",
    "there is no loading, hence the vector `F` consists of all zeros."
   ],
   "metadata": {}
  },
  {
   "outputs": [],
   "cell_type": "code",
   "source": [
    "    F = fill(0.0, tndof)\n",
    "    solve!(U, K, F, tnunk)"
   ],
   "metadata": {},
   "execution_count": null
  },
  {
   "cell_type": "markdown",
   "source": [
    "Once we have solved the system of linear equations, we can distribute the\n",
    "solution from the vector `U` into the finite element spaces."
   ],
   "metadata": {}
  },
  {
   "outputs": [],
   "cell_type": "code",
   "source": [
    "    scattersysvec!([Uxh, Uyh, Ph], U)"
   ],
   "metadata": {},
   "execution_count": null
  },
  {
   "cell_type": "markdown",
   "source": [
    "Given that the solution is manufactured, i. e. exactly known, we can\n",
    "calculate the true errors."
   ],
   "metadata": {}
  },
  {
   "outputs": [],
   "cell_type": "code",
   "source": [
    "    @show ep = evaluate_pressure_error(Ph, truep)\n",
    "    @show ev = evaluate_velocity_error(Uxh, Uyh, trueux, trueuy)"
   ],
   "metadata": {},
   "execution_count": null
  },
  {
   "cell_type": "markdown",
   "source": [
    "Postprocessing. First we make attributes, scalar nodal attributes,\n",
    "associated with the meshes for the pressures and the velocity."
   ],
   "metadata": {}
  },
  {
   "outputs": [],
   "cell_type": "code",
   "source": [
    "    makeattribute(Ph, \"p\", 1)\n",
    "    makeattribute(Uxh, \"ux\", 1)\n",
    "    makeattribute(Uyh, \"uy\", 1)"
   ],
   "metadata": {},
   "execution_count": null
  },
  {
   "cell_type": "markdown",
   "source": [
    "The pressure and the velocity components are then written out into two VTK\n",
    "files."
   ],
   "metadata": {}
  },
  {
   "outputs": [],
   "cell_type": "code",
   "source": [
    "    vtkwrite(\"tut_stokes_ht_p2_p1_reddy-p\", baseincrel(pmesh), [(name = \"p\",), ])\n",
    "    vtkwrite(\"tut_stokes_ht_p2_p1_reddy-v\", baseincrel(vmesh), [(name = \"ux\",), (name = \"uy\",)])\n",
    "\n",
    "    return true\n",
    "end\n",
    "\n",
    "function genmesh(A, N)"
   ],
   "metadata": {},
   "execution_count": null
  },
  {
   "cell_type": "markdown",
   "source": [
    "Hood-Taylor pair of meshes is needed. The first mesh is for the\n",
    "velocities, composed of six-node triangles."
   ],
   "metadata": {}
  },
  {
   "outputs": [],
   "cell_type": "code",
   "source": [
    "    vmesh = attach!(Mesh(), T6block(2 * A, 2 * A, N, N), \"velocity\")"
   ],
   "metadata": {},
   "execution_count": null
  },
  {
   "cell_type": "markdown",
   "source": [
    "Now translate so that the center of the square is at the origin of the\n",
    "coordinates."
   ],
   "metadata": {}
  },
  {
   "outputs": [],
   "cell_type": "code",
   "source": [
    "    ir = baseincrel(vmesh)\n",
    "    transform(ir, x -> x .- A)"
   ],
   "metadata": {},
   "execution_count": null
  },
  {
   "cell_type": "markdown",
   "source": [
    "The second mesh is used for the pressures, and it is composed of\n",
    "three-node triangles such that the corner nodes are shared between the\n",
    "first and the second mesh."
   ],
   "metadata": {}
  },
  {
   "outputs": [],
   "cell_type": "code",
   "source": [
    "    pmesh = attach!(Mesh(), T6toT3(baseincrel(vmesh, \"velocity\")), \"pressure\")"
   ],
   "metadata": {},
   "execution_count": null
  },
  {
   "cell_type": "markdown",
   "source": [
    "Return the pair of meshes"
   ],
   "metadata": {}
  },
  {
   "outputs": [],
   "cell_type": "code",
   "source": [
    "    return vmesh, pmesh\n",
    "end\n",
    "\n",
    "\n",
    "function assembleK(Uxh, Uyh, Ph, tndof, mu)"
   ],
   "metadata": {},
   "execution_count": null
  },
  {
   "cell_type": "markdown",
   "source": [
    "Here we demonstrate that the coefficient matrix, which is expected to have\n",
    "the structure\n",
    "$$\n",
    "K = \\left[\n",
    "\\begin{array}{cc}\n",
    "    A & B^T \\\\\n",
    "    B & 0\n",
    "\\end{array}\\right]\n",
    "$$\n",
    "can be constructed in stages. Refer to the description below. The two\n",
    "functions below  carry out the integration of two separate parts of the\n",
    "coefficient matrix."
   ],
   "metadata": {}
  },
  {
   "outputs": [],
   "cell_type": "code",
   "source": [
    "    function integrateApart!(ass, elits, qpits, mu)\n",
    "        uxnedof, uynedof, pnedof = ndofsperel.(elits)\n",
    "        kuxux = LocalMatrixAssembler(uxnedof, uxnedof, 0.0)\n",
    "        kuyuy = LocalMatrixAssembler(uynedof, uynedof, 0.0)\n",
    "        kuxuy = LocalMatrixAssembler(uxnedof, uynedof, 0.0)\n",
    "        for el in zip(elits...)\n",
    "            uxel, uyel, pel = el\n",
    "            init!(kuxux, eldofs(uxel), eldofs(uxel))\n",
    "            init!(kuyuy, eldofs(uyel), eldofs(uyel))\n",
    "            init!(kuxuy, eldofs(uxel), eldofs(uyel))\n",
    "            for qp in zip(qpits...)"
   ],
   "metadata": {},
   "execution_count": null
  },
  {
   "cell_type": "markdown",
   "source": [
    "Step the quadrature point iterators in step: this assumes that\n",
    "in fact there is the same number of quadrature points in all\n",
    "the quadrature rules."
   ],
   "metadata": {}
  },
  {
   "outputs": [],
   "cell_type": "code",
   "source": [
    "                uxqp, uyqp, pqp = qp\n",
    "                Jac, J = jacjac(pel, pqp)\n",
    "                JxW = J * weight(pqp)"
   ],
   "metadata": {},
   "execution_count": null
  },
  {
   "cell_type": "markdown",
   "source": [
    "Note that the gradients of the basis functions are not\n",
    "necessarily the same in those two velocity spaces. Hence we\n",
    "must grab the gradient from the correct space."
   ],
   "metadata": {}
  },
  {
   "outputs": [],
   "cell_type": "code",
   "source": [
    "                gradNux = bfungrad(uxqp, Jac)\n",
    "                gradNuy = bfungrad(uyqp, Jac)\n",
    "                for j in 1:uxnedof, i in 1:uxnedof\n",
    "                    kuxux[i, j] += (mu * JxW) * (2 * gradNux[i][1] * gradNux[j][1] + gradNux[i][2] * gradNux[j][2])\n",
    "                end\n",
    "                for j in 1:uynedof, i in 1:uynedof\n",
    "                    kuyuy[i, j] += (mu * JxW) * (gradNuy[i][1] * gradNuy[j][1] + 2 * gradNuy[i][2] * gradNuy[j][2])\n",
    "                end\n",
    "                for j in 1:uynedof, i in 1:uxnedof\n",
    "                    kuxuy[i, j] += (mu * JxW) * (gradNux[i][1] * gradNuy[j][2])\n",
    "                end\n",
    "            end\n",
    "            assemble!(ass, kuxux)\n",
    "            assemble!(ass, kuxuy) # off-diagonal matrix needs to be assembled twice\n",
    "            assemble!(ass, transpose(kuxuy))\n",
    "            assemble!(ass, kuyuy)\n",
    "        end\n",
    "        return ass\n",
    "    end\n",
    "    function integrateBBTparts!(ass, elits, qpits)\n",
    "        uxnedof, uynedof, pnedof = ndofsperel.(elits)\n",
    "        kuxp = LocalMatrixAssembler(uxnedof, pnedof, 0.0)\n",
    "        kuyp = LocalMatrixAssembler(uynedof, pnedof, 0.0)\n",
    "        for el in zip(elits...)"
   ],
   "metadata": {},
   "execution_count": null
  },
  {
   "cell_type": "markdown",
   "source": [
    "The iterators of the finite elements are stepped in unison."
   ],
   "metadata": {}
  },
  {
   "outputs": [],
   "cell_type": "code",
   "source": [
    "            uxel, uyel, pel = el"
   ],
   "metadata": {},
   "execution_count": null
  },
  {
   "cell_type": "markdown",
   "source": [
    "Initialize the local matrix assembler with the global degree of\n",
    "freedom numbers, both for the velocity spaces and for the\n",
    "pressure space."
   ],
   "metadata": {}
  },
  {
   "outputs": [],
   "cell_type": "code",
   "source": [
    "            init!(kuxp, eldofs(uxel), eldofs(pel))\n",
    "            init!(kuyp, eldofs(uyel), eldofs(pel))\n",
    "            for qp in zip(qpits...)"
   ],
   "metadata": {},
   "execution_count": null
  },
  {
   "cell_type": "markdown",
   "source": [
    "Step the quadrature point iterators in step: this assumes that\n",
    "in fact there is the same number of quadrature points in all\n",
    "the quadrature rules."
   ],
   "metadata": {}
  },
  {
   "outputs": [],
   "cell_type": "code",
   "source": [
    "                uxqp, uyqp, pqp = qp\n",
    "                Jac, J = jacjac(pel, pqp)\n",
    "                JxW = J * weight(pqp)\n",
    "                gradNux = bfungrad(uxqp, Jac)\n",
    "                gradNuy = bfungrad(uyqp, Jac)\n",
    "                Np = bfun(pqp)\n",
    "                for j in 1:pnedof, i in 1:uxnedof\n",
    "                    kuxp[i, j] += (-JxW) * (gradNux[i][1] * Np[j])\n",
    "                end\n",
    "                for j in 1:pnedof, i in 1:uynedof\n",
    "                    kuyp[i, j] += (-JxW) * (gradNuy[i][2] * Np[j])\n",
    "                end\n",
    "            end\n",
    "            assemble!(ass, kuxp)\n",
    "            assemble!(ass, transpose(kuxp))\n",
    "            assemble!(ass, kuyp)\n",
    "            assemble!(ass, transpose(kuyp))\n",
    "        end\n",
    "        return ass\n",
    "    end"
   ],
   "metadata": {},
   "execution_count": null
  },
  {
   "cell_type": "markdown",
   "source": [
    "In the `assembleK` function we first we create the element iterators. We\n",
    "can go through all the elements, both in the velocity finite element\n",
    "space and in the pressure finite element space, that define the domain of\n",
    "integration using this iterator. Each time a new element is accessed,\n",
    "some data are precomputed such as the element degrees of freedom,\n",
    "components of the degree of freedom, etc. Note that we need to iterate\n",
    "two finite element spaces, hence we create a tuple of iterators."
   ],
   "metadata": {}
  },
  {
   "outputs": [],
   "cell_type": "code",
   "source": [
    "    elits = (FEIterator(Uxh), FEIterator(Uyh), FEIterator(Ph))"
   ],
   "metadata": {},
   "execution_count": null
  },
  {
   "cell_type": "markdown",
   "source": [
    "These are the quadrature point iterators. We know that the elements are\n",
    "triangular. We choose the three-point rule, to capture the quadratic\n",
    "component in the velocity space. Quadrature-point iterators provide\n",
    "access to basis function values and gradients, the Jacobian matrix and\n",
    "the Jacobian determinant, the location of the quadrature point and so on.\n",
    "Note that we need to iterate the quadrature rules of three finite element\n",
    "spaces, hence we create a tuple of iterators. All of these quadrature\n",
    "point iterators refer to the \"same\" quadrature rule: the same number of\n",
    "quadrature points, the same weights, and so on. However, the services\n",
    "these quadrature points provide do depend on the finite element space as\n",
    "well, for instance they would typically have different basis functions."
   ],
   "metadata": {}
  },
  {
   "outputs": [],
   "cell_type": "code",
   "source": [
    "    qargs = (kind = :default, npts = 3,)\n",
    "    qpits = (QPIterator(Uxh, qargs), QPIterator(Uyh, qargs), QPIterator(Ph, qargs))"
   ],
   "metadata": {},
   "execution_count": null
  },
  {
   "cell_type": "markdown",
   "source": [
    "The matrix will be assembled into this assembler. Which is initialized\n",
    "with the total number of degrees of freedom (dimension of the coefficient\n",
    "matrix before partitioning into unknowns and data degrees of freedom)."
   ],
   "metadata": {}
  },
  {
   "outputs": [],
   "cell_type": "code",
   "source": [
    "    ass = SysmatAssemblerSparse(0.0)\n",
    "    start!(ass, tndof, tndof)"
   ],
   "metadata": {},
   "execution_count": null
  },
  {
   "cell_type": "markdown",
   "source": [
    "First we calculate the \"A\" part, using the function below. It\n",
    "is \"assembled\" into the assembler, which means that after this function\n",
    "finishes, the assembler represents this intermediate matrix\n",
    "$$\n",
    "K = \\left[\n",
    "\\begin{array}{cc}\n",
    "    A & 0 \\\\\n",
    "    0 & 0\n",
    "\\end{array}\\right]\n",
    "$$"
   ],
   "metadata": {}
  },
  {
   "outputs": [],
   "cell_type": "code",
   "source": [
    "    integrateApart!(ass, elits, qpits, mu)"
   ],
   "metadata": {},
   "execution_count": null
  },
  {
   "cell_type": "markdown",
   "source": [
    "Then the \"B-transpose(B)\" part using this function is added to the\n",
    "assembler. When the function below finishes, the assembler represents the\n",
    "entire ``K`` matrix."
   ],
   "metadata": {}
  },
  {
   "outputs": [],
   "cell_type": "code",
   "source": [
    "    integrateBBTparts!(ass, elits, qpits)"
   ],
   "metadata": {},
   "execution_count": null
  },
  {
   "cell_type": "markdown",
   "source": [
    "Finally, we materialize the sparse stiffness matrix from the assembler and\n",
    "return it."
   ],
   "metadata": {}
  },
  {
   "outputs": [],
   "cell_type": "code",
   "source": [
    "    return finish!(ass)\n",
    "end"
   ],
   "metadata": {},
   "execution_count": null
  },
  {
   "cell_type": "markdown",
   "source": [
    "The linear algebraic system is solved by partitioning. The vector `U` is\n",
    "initially all zero, except in the degrees of freedom which are prescribed as\n",
    "nonzero. Therefore the product of the stiffness matrix and the vector `U`\n",
    "are the loads due to nonzero essential boundary conditions.  The\n",
    "submatrix of the stiffness conduction matrix corresponding to the free degrees of\n",
    "freedom (unknowns), `K[1:nu, 1:nu]` is then used to solve for the unknowns `U\n",
    "[1:nu]`."
   ],
   "metadata": {}
  },
  {
   "outputs": [],
   "cell_type": "code",
   "source": [
    "function solve!(U, K, F, nu)\n",
    "    KT = K * U\n",
    "    U[1:nu] = K[1:nu, 1:nu] \\ (F[1:nu] - KT[1:nu])\n",
    "end"
   ],
   "metadata": {},
   "execution_count": null
  },
  {
   "cell_type": "markdown",
   "source": [
    "The function `evaluate_pressure_error` evaluates the true ``L^2``  error of\n",
    "the pressure. It does that by integrating the square of the difference\n",
    "between the approximate pressure and the  true pressure, the true pressure\n",
    "being provided by the `truep` function."
   ],
   "metadata": {}
  },
  {
   "outputs": [],
   "cell_type": "code",
   "source": [
    "function evaluate_pressure_error(Ph, truep)\n",
    "    function integrate!(elit, qpit, truep)\n",
    "        n_dp = ndofsperel(elit)\n",
    "        E = 0.0\n",
    "        for el in elit\n",
    "            dofvals = eldofvals(el)\n",
    "            for qp in qpit\n",
    "                Jac, J = jacjac(el, qp)\n",
    "                JxW = J * weight(qp)\n",
    "                Np = bfun(qp)\n",
    "                pt = truep(location(el, qp)...)\n",
    "                pa = 0.0\n",
    "                for j in 1:n_dp\n",
    "                    pa += (dofvals[j] * Np[j])\n",
    "                end\n",
    "                E += (JxW) * (pa - pt)^2\n",
    "            end\n",
    "        end\n",
    "        return sqrt(E)\n",
    "    end\n",
    "\n",
    "    elit = FEIterator(Ph)\n",
    "    qargs = (kind = :default, npts = 3,)\n",
    "    qpit = QPIterator(Ph, qargs)\n",
    "    return integrate!(elit, qpit, truep)\n",
    "end"
   ],
   "metadata": {},
   "execution_count": null
  },
  {
   "cell_type": "markdown",
   "source": [
    "The function `evaluate_velocity_error` evaluates the true ``L^2``  error of\n",
    "the velocity. It does that by integrating the square of the difference\n",
    "between the approximate pressure and the  true velocity, the true velocity\n",
    "being provided by the `trueux`, `trueuy` functions."
   ],
   "metadata": {}
  },
  {
   "outputs": [],
   "cell_type": "code",
   "source": [
    "function evaluate_velocity_error(Uxh, Uyh, trueux, trueuy)\n",
    "    function integrate!(elits, qpits, trueux, trueuy)\n",
    "        n_du, n_du = ndofsperel.(elits)\n",
    "        E = 0.0\n",
    "        for el in zip(elits...)\n",
    "            uxel, uyel = el\n",
    "            uxdofvals = eldofvals(uxel)\n",
    "            uydofvals = eldofvals(uyel)\n",
    "            for qp in zip(qpits...)\n",
    "                uxqp, uyqp = qp\n",
    "                Jac, J = jacjac(uxel, uxqp)\n",
    "                JxW = J * weight(uxqp)\n",
    "                Nu = bfun(uxqp)\n",
    "                uxt = trueux(location(uxel, uxqp)...)\n",
    "                uyt = trueuy(location(uxel, uxqp)...)\n",
    "                uxa = 0.0\n",
    "                uya = 0.0\n",
    "                for j in 1:n_du\n",
    "                    uxa += (uxdofvals[j] * Nu[j])\n",
    "                    uya += (uydofvals[j] * Nu[j])\n",
    "                end\n",
    "                E += (JxW) * ((uxa - uxt)^2 + (uya - uyt)^2)\n",
    "            end\n",
    "        end\n",
    "        return sqrt(E)\n",
    "    end\n",
    "\n",
    "    elits = (FEIterator(Uxh), FEIterator(Uyh),)\n",
    "    qargs = (kind = :default, npts = 3,)\n",
    "    qpits = (QPIterator(Uxh, qargs), QPIterator(Uyh, qargs),)\n",
    "    return integrate!(elits, qpits, trueux, trueuy)\n",
    "end\n",
    "\n",
    "end"
   ],
   "metadata": {},
   "execution_count": null
  },
  {
   "cell_type": "markdown",
   "source": [
    "To run the example, evaluate this file which will  compile the module\n",
    "`.tut_stokes_ht_p2_p1_reddy`."
   ],
   "metadata": {}
  },
  {
   "outputs": [],
   "cell_type": "code",
   "source": [
    "using .tut_stokes_ht_p2_p1_reddy\n",
    "tut_stokes_ht_p2_p1_reddy.run()"
   ],
   "metadata": {},
   "execution_count": null
  },
  {
   "cell_type": "markdown",
   "source": [
    "---\n",
    "\n",
    "*This notebook was generated using [Literate.jl](https://github.com/fredrikekre/Literate.jl).*"
   ],
   "metadata": {}
  }
 ],
 "nbformat_minor": 3,
 "metadata": {
  "language_info": {
   "file_extension": ".jl",
   "mimetype": "application/julia",
   "name": "julia",
   "version": "1.6.0-DEV.227"
  },
  "kernelspec": {
   "name": "julia-1.6",
   "display_name": "Julia 1.6.0-DEV.227",
   "language": "julia"
  }
 },
 "nbformat": 4
}
