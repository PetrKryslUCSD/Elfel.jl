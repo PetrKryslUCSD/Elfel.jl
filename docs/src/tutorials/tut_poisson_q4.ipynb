{
 "cells": [
  {
   "cell_type": "markdown",
   "source": [
    "# Solve the heat conduction equation"
   ],
   "metadata": {}
  },
  {
   "cell_type": "markdown",
   "source": [
    "Synopsis: Compute the solution of the Poisson equation of heat conduction with a\n",
    "nonzero heat source. Quadrilateral four-node elements are used."
   ],
   "metadata": {}
  },
  {
   "cell_type": "markdown",
   "source": [
    "The problem is linear heat conduction equation posed on a bi-unit square,\n",
    "solved with Dirichlet boundary conditions around the circumference. Uniform\n",
    "nonzero heat generation rate is present. The exact solution is in this way\n",
    "manufactured and hence known. That gives us an opportunity to calculate the\n",
    "true error."
   ],
   "metadata": {}
  },
  {
   "cell_type": "markdown",
   "source": [
    "The complete code is in the file [`tut_poisson_q4.jl`](tut_poisson_q4.jl)."
   ],
   "metadata": {}
  },
  {
   "cell_type": "markdown",
   "source": [
    "The solution will be defined  within a module in order to eliminate conflicts\n",
    "with data or functions defined elsewhere."
   ],
   "metadata": {}
  },
  {
   "outputs": [],
   "cell_type": "code",
   "source": [
    "module tut_poisson_q4"
   ],
   "metadata": {},
   "execution_count": null
  },
  {
   "cell_type": "markdown",
   "source": [
    "We'll need some functionality from linear algebra, and the mesh libraries.\n",
    "Finally we will need the `Elfel` functionality."
   ],
   "metadata": {}
  },
  {
   "outputs": [],
   "cell_type": "code",
   "source": [
    "using LinearAlgebra\n",
    "using MeshCore.Exports\n",
    "using MeshSteward.Exports\n",
    "using Elfel.Exports"
   ],
   "metadata": {},
   "execution_count": null
  },
  {
   "cell_type": "markdown",
   "source": [
    "This is the top level function."
   ],
   "metadata": {}
  },
  {
   "outputs": [],
   "cell_type": "code",
   "source": [
    "function run()"
   ],
   "metadata": {},
   "execution_count": null
  },
  {
   "cell_type": "markdown",
   "source": [
    "Input parameters:"
   ],
   "metadata": {}
  },
  {
   "outputs": [],
   "cell_type": "code",
   "source": [
    "    A = 1.0 # length of the side of the square\n",
    "    kappa =  1.0; # thermal conductivity of the material\n",
    "    Q = -6.0; # internal heat generation rate\n",
    "    tempf(x, y) =(1.0 + x^2 + 2.0 * y^2); # the exact distribution of temperature\n",
    "    N = 1000; # number of element edges along the sides of the square domain"
   ],
   "metadata": {},
   "execution_count": null
  },
  {
   "cell_type": "markdown",
   "source": [
    "Generate the computational mesh."
   ],
   "metadata": {}
  },
  {
   "outputs": [],
   "cell_type": "code",
   "source": [
    "    mesh = genmesh(A, N)"
   ],
   "metadata": {},
   "execution_count": null
  },
  {
   "cell_type": "markdown",
   "source": [
    "Create the finite element space to represent the temperature solution. The\n",
    "degrees of freedom are real numbers (`Float64`), the quadrilaterals are\n",
    "defined by the mesh, and each of the elements has the continuity ``H\n",
    "^1``, i. e. both the function values and the derivatives are square\n",
    "integrable."
   ],
   "metadata": {}
  },
  {
   "outputs": [],
   "cell_type": "code",
   "source": [
    "    Uh = FESpace(Float64, mesh, FEH1_Q4())"
   ],
   "metadata": {},
   "execution_count": null
  },
  {
   "cell_type": "markdown",
   "source": [
    "Apply the essential boundary conditions at the circumference of the square\n",
    "domain. We find the boundary incidence relation (`boundary(mesh)`), and\n",
    "then the list of all vertices connected by the boundary cells. The\n",
    "function `tempf` defines the analytical temperature variation, and hence\n",
    "for each of the vertices `i` on the boundary (they are of manifold\n",
    "dimension  `0`), we set the component of the field (1) to the exact value\n",
    "of the temperature at that location."
   ],
   "metadata": {}
  },
  {
   "outputs": [],
   "cell_type": "code",
   "source": [
    "    vl = connectedv(boundary(mesh));\n",
    "    locs = geometry(mesh)\n",
    "    for i in vl\n",
    "        setebc!(Uh, 0, i, 1, tempf(locs[i]...))\n",
    "    end"
   ],
   "metadata": {},
   "execution_count": null
  },
  {
   "cell_type": "markdown",
   "source": [
    "Number the degrees of freedom, both the unknowns and the data\n",
    "(prescribed) degrees of freedom."
   ],
   "metadata": {}
  },
  {
   "outputs": [],
   "cell_type": "code",
   "source": [
    "    numberdofs!(Uh)\n",
    "    @show ndofs(Uh), nunknowns(Uh)"
   ],
   "metadata": {},
   "execution_count": null
  },
  {
   "cell_type": "markdown",
   "source": [
    "Assemble the conductivity matrix and the vector of the heat loads. Refer\n",
    "to the definition of this function below."
   ],
   "metadata": {}
  },
  {
   "outputs": [],
   "cell_type": "code",
   "source": [
    "    K, F = assembleKF(Uh, kappa, Q)"
   ],
   "metadata": {},
   "execution_count": null
  },
  {
   "cell_type": "markdown",
   "source": [
    "This is a vector to hold all degrees of freedom in the system."
   ],
   "metadata": {}
  },
  {
   "outputs": [],
   "cell_type": "code",
   "source": [
    "    T = fill(0.0, ndofs(Uh))"
   ],
   "metadata": {},
   "execution_count": null
  },
  {
   "cell_type": "markdown",
   "source": [
    "Here we collect the data degrees of freedom (the known values)."
   ],
   "metadata": {}
  },
  {
   "outputs": [],
   "cell_type": "code",
   "source": [
    "    gathersysvec!(T, Uh)"
   ],
   "metadata": {},
   "execution_count": null
  },
  {
   "cell_type": "markdown",
   "source": [
    "The system of linear algebraic equations is solved."
   ],
   "metadata": {}
  },
  {
   "outputs": [],
   "cell_type": "code",
   "source": [
    "    solve!(T, K, F, nunknowns(Uh))"
   ],
   "metadata": {},
   "execution_count": null
  },
  {
   "cell_type": "markdown",
   "source": [
    "The values of all the degrees of freedom can now be introduced into the\n",
    "finite element space."
   ],
   "metadata": {}
  },
  {
   "outputs": [],
   "cell_type": "code",
   "source": [
    "    scattersysvec!(Uh, T)"
   ],
   "metadata": {},
   "execution_count": null
  },
  {
   "cell_type": "markdown",
   "source": [
    "Here we associate the values of the finite element space with the entities\n",
    "of the mesh as an attribute."
   ],
   "metadata": {}
  },
  {
   "outputs": [],
   "cell_type": "code",
   "source": [
    "    makeattribute(Uh, \"T\", 1)"
   ],
   "metadata": {},
   "execution_count": null
  },
  {
   "cell_type": "markdown",
   "source": [
    "The correctness of the solution is checked by comparing the values at the\n",
    "vertices."
   ],
   "metadata": {}
  },
  {
   "outputs": [],
   "cell_type": "code",
   "source": [
    "    checkcorrectness(Uh, tempf)"
   ],
   "metadata": {},
   "execution_count": null
  },
  {
   "cell_type": "markdown",
   "source": [
    "The attribute can now be written out for visualization into a VTK file."
   ],
   "metadata": {}
  },
  {
   "outputs": [],
   "cell_type": "code",
   "source": [
    "    vtkwrite(\"q4-T\", baseincrel(mesh), [(name = \"T\",)])\n",
    "\n",
    "    true # return success\n",
    "end"
   ],
   "metadata": {},
   "execution_count": null
  },
  {
   "cell_type": "markdown",
   "source": [
    "The domain is a square, meshed with quadrilateral elements. The function\n",
    "`Q4block` creates an incidence relation that defines the quadrilateral\n",
    "element shapes by the vertices connected into the shapes. This incidence\n",
    "relation is then attached to the mesh and the mesh is returned."
   ],
   "metadata": {}
  },
  {
   "outputs": [],
   "cell_type": "code",
   "source": [
    "function genmesh(A, N)\n",
    "    conn = Q4block(A, A, N, N)\n",
    "    return attach!(Mesh(), conn)\n",
    "end"
   ],
   "metadata": {},
   "execution_count": null
  },
  {
   "cell_type": "markdown",
   "source": [
    "The `assembleKF` function constructs the left-hand side coefficient matrix,\n",
    "conductivity matrix, as a sparse matrix, and a vector of the heat loads due\n",
    "to the internal heat generation rate `Q`."
   ],
   "metadata": {}
  },
  {
   "cell_type": "markdown",
   "source": [
    "The boundary value problem is expressed in this weak form\n",
    "$$\n",
    "\\int_{V}(\\mathrm{grad}\\vartheta)\\; \\kappa (\\mathrm{grad}T\n",
    "            )^T\\; \\mathrm{d} V\n",
    "            -\\int_{V}  \\vartheta Q \\; \\mathrm{d} V\n",
    "             = 0\n",
    "$$\n",
    "where the test function vanishes on the boundary where the temperature is\n",
    "prescribed, ``\\vartheta(x) =0``  for  ``x \\in{S_1}``\n",
    "Substituting ``\\vartheta = N_j `` and ``T = \\sum_i N_i T_i`` we obtain the\n",
    "linear algebraic equations\n",
    "$$\n",
    "\\sum_i T_i \\int_{V} \\mathrm{grad}N_j \\; \\kappa (\\mathrm{grad}N_i)^T\\; \\mathrm{d} V\n",
    " -\\int_{V}  N_j Q \\; \\mathrm{d} V  = 0 , \\quad \\forall j.\n",
    "$$\n",
    "The volume element is ``\\mathrm{d} V``, which in our case\n",
    "becomes ``1.0\\times\\mathrm{d} S``, since the thickness of the two\n",
    "dimensional domain is assumed to be 1.0."
   ],
   "metadata": {}
  },
  {
   "outputs": [],
   "cell_type": "code",
   "source": [
    "function assembleKF(Uh, kappa, Q)"
   ],
   "metadata": {},
   "execution_count": null
  },
  {
   "cell_type": "markdown",
   "source": [
    "At the top of the `assembleKF` we look at the function `integrate!` to\n",
    "evaluate the weak-form integrals. The key to making this calculation\n",
    "efficient is type stability. All the arguments coming in must have\n",
    "concrete types. This is why the `integrate!` function is an inner\n",
    "function: the function barrier allows for all arguments to be resolved to\n",
    "concrete types."
   ],
   "metadata": {}
  },
  {
   "outputs": [],
   "cell_type": "code",
   "source": [
    "    function integrate!(am, av, elit, qpit, kappa, Q)\n",
    "        nedof = ndofsperel(elit)"
   ],
   "metadata": {},
   "execution_count": null
  },
  {
   "cell_type": "markdown",
   "source": [
    "The local assemblers are just like matrices or vectors"
   ],
   "metadata": {}
  },
  {
   "outputs": [],
   "cell_type": "code",
   "source": [
    "        ke = LocalMatrixAssembler(nedof, nedof, 0.0)\n",
    "        fe = LocalVectorAssembler(nedof, 0.0)\n",
    "        for el in elit # Loop over all elements\n",
    "            init!(ke, eldofs(el), eldofs(el)) # zero out elementwise matrix\n",
    "            init!(fe, eldofs(el)) # and vector\n",
    "            for qp in qpit # Now loop over the quadrature points\n",
    "                Jac, J = jacjac(el, qp) # Calculate the Jacobian matrix, Jacobian\n",
    "                gradN = bfungrad(qp, Jac) # Evaluate the spatial gradients\n",
    "                JxW = J * weight(qp) # elementary volume\n",
    "                N = bfun(qp) # Basis function values at the quadrature point"
   ],
   "metadata": {},
   "execution_count": null
  },
  {
   "cell_type": "markdown",
   "source": [
    "This double loop evaluates the elementwise conductivity\n",
    "matrix and the heat load vector precisely as the formula of\n",
    "the weak form  dictates; see above."
   ],
   "metadata": {}
  },
  {
   "outputs": [],
   "cell_type": "code",
   "source": [
    "                for i in 1:nedof\n",
    "                    for j in 1:nedof\n",
    "                        ke[j, i] += dot(gradN[j], gradN[i]) * (kappa * JxW)\n",
    "                    end\n",
    "                    fe[j] += N[j] * Q * JxW\n",
    "                end\n",
    "            end"
   ],
   "metadata": {},
   "execution_count": null
  },
  {
   "cell_type": "markdown",
   "source": [
    "Assemble the calculated contributions from this element"
   ],
   "metadata": {}
  },
  {
   "outputs": [],
   "cell_type": "code",
   "source": [
    "            assemble!(am, ke)\n",
    "            assemble!(av, fe)\n",
    "        end\n",
    "        return am, av # Return the updated assemblers\n",
    "    end"
   ],
   "metadata": {},
   "execution_count": null
  },
  {
   "cell_type": "markdown",
   "source": [
    "In the `assembleKF` function we first we create the element iterator. We\n",
    "can go through all the elements that define the domain of integration\n",
    "using this iterator. Each time a new element is accessed, some data are\n",
    "precomputed such as the element degrees of freedom."
   ],
   "metadata": {}
  },
  {
   "outputs": [],
   "cell_type": "code",
   "source": [
    "    elit = FEIterator(Uh)"
   ],
   "metadata": {},
   "execution_count": null
  },
  {
   "cell_type": "markdown",
   "source": [
    "This is the quadrature point iterator. We know that the elements are\n",
    "quadrilateral, which makes the Gauss integration rule the obvious choice.\n",
    "We also select order 2 for accuracy. Quadrature-point iterators provide\n",
    "access to basis function values and gradients, the Jacobian matrix and\n",
    "the Jacobian determinant, the location of the quadrature point and so\n",
    "on."
   ],
   "metadata": {}
  },
  {
   "outputs": [],
   "cell_type": "code",
   "source": [
    "    qpit = QPIterator(Uh, (kind = :Gauss, order = 2))"
   ],
   "metadata": {},
   "execution_count": null
  },
  {
   "cell_type": "markdown",
   "source": [
    "Next we create assemblers, one for the sparse system matrix and one for\n",
    "the system vector."
   ],
   "metadata": {}
  },
  {
   "outputs": [],
   "cell_type": "code",
   "source": [
    "    am = start!(SysmatAssemblerSparse(0.0), ndofs(Uh), ndofs(Uh))\n",
    "    av = start!(SysvecAssembler(0.0), ndofs(Uh))"
   ],
   "metadata": {},
   "execution_count": null
  },
  {
   "cell_type": "markdown",
   "source": [
    "Now we call the integration function. The assemblers are modified inside\n",
    "this function..."
   ],
   "metadata": {}
  },
  {
   "outputs": [],
   "cell_type": "code",
   "source": [
    "    @time integrate!(am, av, elit, qpit, kappa, Q)"
   ],
   "metadata": {},
   "execution_count": null
  },
  {
   "cell_type": "markdown",
   "source": [
    "...so that when the integration is done, we can materialize the sparse\n",
    "matrix and the vector and return them."
   ],
   "metadata": {}
  },
  {
   "outputs": [],
   "cell_type": "code",
   "source": [
    "    return finish!(am), finish!(av)\n",
    "end"
   ],
   "metadata": {},
   "execution_count": null
  },
  {
   "cell_type": "markdown",
   "source": [
    "The linear algebraic system is solved by partitioning. The vector `T` is\n",
    "initially all zero, except in the degrees of freedom which are prescribed as\n",
    "nonzero. Therefore the product of the conductivity matrix and the vector `T`\n",
    "are the heat loads due to nonzero essential boundary conditions. To this we\n",
    "add the vector of heat loads due to the internal heat generation rate. The\n",
    "submatrix of the heat conduction matrix corresponding to the free degrees of\n",
    "freedom (unknowns), `K[1:nu, 1:nu]` is then used to solve for the unknowns `T\n",
    "[1:nu]`."
   ],
   "metadata": {}
  },
  {
   "outputs": [],
   "cell_type": "code",
   "source": [
    "function solve!(T, K, F, nu)\n",
    "    @time KT = K * T\n",
    "    @time T[1:nu] = K[1:nu, 1:nu] \\ (F[1:nu] - KT[1:nu])\n",
    "end"
   ],
   "metadata": {},
   "execution_count": null
  },
  {
   "cell_type": "markdown",
   "source": [
    "The correctness can be checked in various ways. Here we calculate the mean\n",
    "deviation of the calculated temperatures at the nodes relative to the exact\n",
    "values of the temperature."
   ],
   "metadata": {}
  },
  {
   "outputs": [],
   "cell_type": "code",
   "source": [
    "function checkcorrectness(Uh, tempf)\n",
    "    geom = geometry(Uh.mesh)\n",
    "    ir = baseincrel(Uh.mesh)\n",
    "    T = attribute(ir.right, \"T\")\n",
    "    std = 0.0\n",
    "    for i in 1:length(T)\n",
    "        std += abs(T[i][1] - tempf(geom[i]...))\n",
    "    end\n",
    "    @show (std / length(T)) <= 1.0e-9\n",
    "end\n",
    "\n",
    "end # module"
   ],
   "metadata": {},
   "execution_count": null
  },
  {
   "cell_type": "markdown",
   "source": [
    "The module can now be used."
   ],
   "metadata": {}
  },
  {
   "outputs": [],
   "cell_type": "code",
   "source": [
    "using .tut_poisson_q4\n",
    "tut_poisson_q4.run()"
   ],
   "metadata": {},
   "execution_count": null
  },
  {
   "cell_type": "markdown",
   "source": [
    "---\n",
    "\n",
    "*This notebook was generated using [Literate.jl](https://github.com/fredrikekre/Literate.jl).*"
   ],
   "metadata": {}
  }
 ],
 "nbformat_minor": 3,
 "metadata": {
  "language_info": {
   "file_extension": ".jl",
   "mimetype": "application/julia",
   "name": "julia",
   "version": "1.6.0-DEV.227"
  },
  "kernelspec": {
   "name": "julia-1.6",
   "display_name": "Julia 1.6.0-DEV.227",
   "language": "julia"
  }
 },
 "nbformat": 4
}
