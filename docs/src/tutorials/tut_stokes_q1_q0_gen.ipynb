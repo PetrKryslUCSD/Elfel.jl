{
 "cells": [
  {
   "cell_type": "markdown",
   "source": [
    "# Solve the Stokes equation of colliding flow: Q1-Q0 element, general formulation"
   ],
   "metadata": {}
  },
  {
   "cell_type": "markdown",
   "source": [
    "Synopsis: Compute the solution of the Stokes equation of two-dimensional\n",
    "incompressible viscous flow for a manufactured problem of colliding flow.\n",
    "Continuous velocity/discontinuous pressure quadrilateral elements are used."
   ],
   "metadata": {}
  },
  {
   "cell_type": "markdown",
   "source": [
    "The \"manufactured\" colliding flow example from Elman et al 2014. The\n",
    "Continuous velocity/discontinuous pressure formulation with linear\n",
    "quadrilaterals. These elements suffer from pressure oscillation instability.\n",
    "The results of this simulation demonstrate it."
   ],
   "metadata": {}
  },
  {
   "cell_type": "markdown",
   "source": [
    "The analytical results are shown here: pressure is shown  with contours,\n",
    "and the velocities visualized with arrows at random points.\n",
    "![Pressure and velocity](colliding.png)"
   ],
   "metadata": {}
  },
  {
   "cell_type": "markdown",
   "source": [
    "The formulation is the general elasticity-like scheme with\n",
    "strain-rate/velocity matrices. It can be manipulated into the one derived\n",
    "in Reddy, Introduction to the finite element method, 1993. Page 486 ff."
   ],
   "metadata": {}
  },
  {
   "cell_type": "markdown",
   "source": [
    "The complete code is in the file [`tut_stokes_q1_q0_gen.jl`](tut_stokes_q1_q0_gen.jl)."
   ],
   "metadata": {}
  },
  {
   "cell_type": "markdown",
   "source": [
    "The solution will be defined  within a module in order to eliminate conflicts\n",
    "with data or functions defined elsewhere."
   ],
   "metadata": {}
  },
  {
   "outputs": [],
   "cell_type": "code",
   "source": [
    "module tut_stokes_q1_q0_gen"
   ],
   "metadata": {},
   "execution_count": null
  },
  {
   "cell_type": "markdown",
   "source": [
    "We'll need some functionality from linear algebra, static arrays, and the mesh\n",
    "libraries. Some plotting will be produced to visualize structure of the\n",
    "stiffness matrix. Finally we will need the `Elfel` functionality."
   ],
   "metadata": {}
  },
  {
   "outputs": [],
   "cell_type": "code",
   "source": [
    "using LinearAlgebra\n",
    "using StaticArrays\n",
    "using MeshCore.Exports\n",
    "using MeshSteward.Exports\n",
    "using Elfel.Exports\n",
    "using UnicodePlots"
   ],
   "metadata": {},
   "execution_count": null
  },
  {
   "cell_type": "markdown",
   "source": [
    "The boundary value problem is expressed in this weak form\n",
    "$$\n",
    " \\int_{V}{\\underline{\\varepsilon}}(\\underline{\\delta v})^T\\;\n",
    " \\underline{\\underline{D}}\\; {\\underline{\\varepsilon}}(\\underline{u})\\; \\mathrm{d} V\n",
    "- \\int_{V} \\mathrm{div}(\\underline{\\delta v})\\; p\\; \\mathrm{d} V = 0,\\quad \\forall \\underline{\\delta v}\n",
    "$$\n",
    "$$\n",
    " - \\int_{V} \\delta q\\; \\mathrm{div}(\\underline{u}) \\; \\mathrm{d} V = 0,\\quad \\forall \\delta q\n",
    "$$\n",
    "Here ``\\underline{\\delta v}`` are the test functions in the velocity space,\n",
    "and ``\\delta q`` are the pressure test functions. Further ``\\underline\n",
    "{u}`` is the trial velocity, and ``p`` is the trial pressure."
   ],
   "metadata": {}
  },
  {
   "outputs": [],
   "cell_type": "code",
   "source": [
    "function run()\n",
    "    mu = 1.0 # dynamic viscosity"
   ],
   "metadata": {},
   "execution_count": null
  },
  {
   "cell_type": "markdown",
   "source": [
    "This is the material-property matrix ``\\underline{\\underline{D}}``:"
   ],
   "metadata": {}
  },
  {
   "outputs": [],
   "cell_type": "code",
   "source": [
    "    D = SMatrix{3, 3}(\n",
    "        [2*mu  0   0\n",
    "          0  2*mu  0\n",
    "          0    0   mu])\n",
    "    A = 1.0 # half of the length of the side of the square\n",
    "    N = 100 # number of element edges per side of the square"
   ],
   "metadata": {},
   "execution_count": null
  },
  {
   "cell_type": "markdown",
   "source": [
    "These three functions define the true velocity components and the true\n",
    "pressure."
   ],
   "metadata": {}
  },
  {
   "outputs": [],
   "cell_type": "code",
   "source": [
    "    trueux = (x, y) -> 20 * x * y ^ 3\n",
    "    trueuy = (x, y) -> 5 * x ^ 4 - 5 * y ^ 4\n",
    "    truep = (x, y) -> 60 * x ^ 2 * y - 20 * y ^ 3"
   ],
   "metadata": {},
   "execution_count": null
  },
  {
   "cell_type": "markdown",
   "source": [
    "Construct the two meshes for the mixed method. They need to support the\n",
    "velocity and pressure spaces."
   ],
   "metadata": {}
  },
  {
   "outputs": [],
   "cell_type": "code",
   "source": [
    "    mesh = genmesh(A, N)"
   ],
   "metadata": {},
   "execution_count": null
  },
  {
   "cell_type": "markdown",
   "source": [
    "Construct the velocity space: it is a vector space with two components. The\n",
    "degrees of freedom are real numbers (`Float64`). The velocity mesh\n",
    "carries the finite elements of  the continuity ``H ^1``, i. e. both the\n",
    "function values and the derivatives are square integrable. Each node\n",
    "carries 2 degrees of freedom, hence there are two velocity components per\n",
    "node."
   ],
   "metadata": {}
  },
  {
   "outputs": [],
   "cell_type": "code",
   "source": [
    "    Uh = FESpace(Float64, mesh, FEH1_Q4(), 2)"
   ],
   "metadata": {},
   "execution_count": null
  },
  {
   "cell_type": "markdown",
   "source": [
    "Now we apply the boundary conditions at the nodes around the\n",
    "circumference."
   ],
   "metadata": {}
  },
  {
   "outputs": [],
   "cell_type": "code",
   "source": [
    "    locs = geometry(mesh)"
   ],
   "metadata": {},
   "execution_count": null
  },
  {
   "cell_type": "markdown",
   "source": [
    "We use searching based on the presence of the node within a box. The\n",
    "entire boundary will be captured within these four boxes, provided we\n",
    "inflate those boxes with a little tolerance (we can't rely on those\n",
    "nodes to be precisely at the coordinates given, we need to introduce some\n",
    "tolerance)."
   ],
   "metadata": {}
  },
  {
   "outputs": [],
   "cell_type": "code",
   "source": [
    "    boxes = [[-A A -A -A], [-A -A -A A], [A A -A A], [-A A A A]]\n",
    "    inflate = A / N / 100\n",
    "    for box in boxes\n",
    "        vl = vselect(locs; box = box, inflate = inflate)\n",
    "        for i in vl"
   ],
   "metadata": {},
   "execution_count": null
  },
  {
   "cell_type": "markdown",
   "source": [
    "Remember that all  components of the velocity are known at the\n",
    "boundary."
   ],
   "metadata": {}
  },
  {
   "outputs": [],
   "cell_type": "code",
   "source": [
    "            setebc!(Uh, 0, i, 1, trueux(locs[i]...))\n",
    "            setebc!(Uh, 0, i, 2, trueuy(locs[i]...))\n",
    "        end\n",
    "    end"
   ],
   "metadata": {},
   "execution_count": null
  },
  {
   "cell_type": "markdown",
   "source": [
    "No we construct the pressure space. It is a discontinuous, piecewise\n",
    "constant space supported on a mesh of 4-node quadrilaterals\n",
    "(``L ^2``-continuity elements). Each quadrilateral carries a single\n",
    "degree of freedom."
   ],
   "metadata": {}
  },
  {
   "outputs": [],
   "cell_type": "code",
   "source": [
    "    Ph = FESpace(Float64, mesh, FEL2_Q4(), 1)"
   ],
   "metadata": {},
   "execution_count": null
  },
  {
   "cell_type": "markdown",
   "source": [
    "The pressure in this \"enclosed\" flow example is only known up to a\n",
    "constant. By setting  pressure degree of freedom at one degree of freedom\n",
    "to zero will make the solution unique."
   ],
   "metadata": {}
  },
  {
   "outputs": [],
   "cell_type": "code",
   "source": [
    "    atcenter = vselect(geometry(mesh); nearestto = [0.0, 0.0])\n",
    "    setebc!(Ph, 2, atcenter[1], 1, 0.0)"
   ],
   "metadata": {},
   "execution_count": null
  },
  {
   "cell_type": "markdown",
   "source": [
    "Number the degrees of freedom. First all the free degrees of freedom are\n",
    "numbered, both velocities and pressures. Next all the data degrees of\n",
    "freedom are numbered, again both for the velocities and for the\n",
    "pressures."
   ],
   "metadata": {}
  },
  {
   "outputs": [],
   "cell_type": "code",
   "source": [
    "    numberdofs!([Uh, Ph])"
   ],
   "metadata": {},
   "execution_count": null
  },
  {
   "cell_type": "markdown",
   "source": [
    "The total number of degrees of freedom is now calculated."
   ],
   "metadata": {}
  },
  {
   "outputs": [],
   "cell_type": "code",
   "source": [
    "    tndof = ndofs(Uh) + ndofs(Ph)"
   ],
   "metadata": {},
   "execution_count": null
  },
  {
   "cell_type": "markdown",
   "source": [
    "As is the total number of unknowns."
   ],
   "metadata": {}
  },
  {
   "outputs": [],
   "cell_type": "code",
   "source": [
    "    tnunk = nunknowns(Uh) + nunknowns(Ph)"
   ],
   "metadata": {},
   "execution_count": null
  },
  {
   "cell_type": "markdown",
   "source": [
    "Assemble the coefficient matrix."
   ],
   "metadata": {}
  },
  {
   "outputs": [],
   "cell_type": "code",
   "source": [
    "    K = assembleK(Uh, Ph, tndof, D)"
   ],
   "metadata": {},
   "execution_count": null
  },
  {
   "cell_type": "markdown",
   "source": [
    "Display the structure of the indefinite stiffness matrix. Note that this\n",
    "is the complete matrix, including rows and columns for all the degrees of\n",
    "freedom, unknown and known."
   ],
   "metadata": {}
  },
  {
   "outputs": [],
   "cell_type": "code",
   "source": [
    "    p = spy(K, canvas = DotCanvas)\n",
    "    display(p)"
   ],
   "metadata": {},
   "execution_count": null
  },
  {
   "cell_type": "markdown",
   "source": [
    "Solve the linear algebraic system. First construct system vector of all\n",
    "the degrees of freedom, in the first `tnunk` rows that corresponds to the\n",
    "unknowns, and the subsequent rows are for the data degrees of freedom."
   ],
   "metadata": {}
  },
  {
   "outputs": [],
   "cell_type": "code",
   "source": [
    "    U = fill(0.0, tndof)\n",
    "    gathersysvec!(U, [Uh, Ph])"
   ],
   "metadata": {},
   "execution_count": null
  },
  {
   "cell_type": "markdown",
   "source": [
    "Note that  the vector `U` consists of nonzero numbers in rows are for the\n",
    "data degrees of freedom. Multiplying the stiffness matrix with this\n",
    "vector will generate a load vector  on the right-hand side. Otherwise\n",
    "there is no loading, hence the vector `F` consists of all zeros."
   ],
   "metadata": {}
  },
  {
   "outputs": [],
   "cell_type": "code",
   "source": [
    "    F = fill(0.0, tndof)\n",
    "    solve!(U, K, F, tnunk)"
   ],
   "metadata": {},
   "execution_count": null
  },
  {
   "cell_type": "markdown",
   "source": [
    "Once we have solved the system of linear equations, we can distribute the\n",
    "solution from the vector `U` into the finite element spaces."
   ],
   "metadata": {}
  },
  {
   "outputs": [],
   "cell_type": "code",
   "source": [
    "    scattersysvec!([Uh, Ph], U)"
   ],
   "metadata": {},
   "execution_count": null
  },
  {
   "cell_type": "markdown",
   "source": [
    "Given that the solution is manufactured, i. e. exactly known, we can\n",
    "calculate the true errors."
   ],
   "metadata": {}
  },
  {
   "outputs": [],
   "cell_type": "code",
   "source": [
    "    @show ep = evaluate_pressure_error(Ph, truep)\n",
    "    @show ev = evaluate_velocity_error(Uh, trueux, trueuy)"
   ],
   "metadata": {},
   "execution_count": null
  },
  {
   "cell_type": "markdown",
   "source": [
    "Postprocessing. First we make attributes, scalar nodal attributes,\n",
    "associated with the meshes for the pressures and the velocity."
   ],
   "metadata": {}
  },
  {
   "outputs": [],
   "cell_type": "code",
   "source": [
    "    makeattribute(Ph, \"p\", 1)\n",
    "    makeattribute(Uh, \"ux\", 1)\n",
    "    makeattribute(Uh, \"uy\", 2)"
   ],
   "metadata": {},
   "execution_count": null
  },
  {
   "cell_type": "markdown",
   "source": [
    "The pressure and the velocity components are then written out into two VTK\n",
    "files. The pressure is of the \"cell-data\" type, the velocity is of\n",
    "the \"point-data\" type."
   ],
   "metadata": {}
  },
  {
   "outputs": [],
   "cell_type": "code",
   "source": [
    "    vtkwrite(\"tut_stokes_q1_q0_gen-p\", baseincrel(mesh), [(name = \"p\",), ])\n",
    "    vtkwrite(\"tut_stokes_q1_q0_gen-v\", baseincrel(mesh), [(name = \"ux\",), (name = \"uy\",)])\n",
    "\n",
    "    return true\n",
    "end\n",
    "\n",
    "function genmesh(A, N)"
   ],
   "metadata": {},
   "execution_count": null
  },
  {
   "cell_type": "markdown",
   "source": [
    "Linear quadrilateral mesh is used for both the velocity space and the\n",
    "pressure space."
   ],
   "metadata": {}
  },
  {
   "outputs": [],
   "cell_type": "code",
   "source": [
    "    mesh = attach!(Mesh(), Q4block(2 * A, 2 * A, N, N), \"velocity\")"
   ],
   "metadata": {},
   "execution_count": null
  },
  {
   "cell_type": "markdown",
   "source": [
    "Now translate so that the center of the square is at the origin of the\n",
    "coordinates."
   ],
   "metadata": {}
  },
  {
   "outputs": [],
   "cell_type": "code",
   "source": [
    "    ir = baseincrel(mesh)\n",
    "    transform(ir, x -> x .- A)"
   ],
   "metadata": {},
   "execution_count": null
  },
  {
   "cell_type": "markdown",
   "source": [
    "The pressure degree of freedom is associated with the element itself. The\n",
    "mesh will therefore need be equipped with the incidence relation ``\n",
    "(2, 2)``. The finite element space for the velocity will  have degrees of\n",
    "freedom associated with the vertices. The finite element space for the\n",
    "pressure will have degrees of freedom associated with  the faces\n",
    "(elements themselves). The finite element space does that by associating\n",
    "the pressure field with the ``(2, 2)`` incidence relation."
   ],
   "metadata": {}
  },
  {
   "outputs": [],
   "cell_type": "code",
   "source": [
    "    eidir = ir_identity(ir)\n",
    "    attach!(mesh, eidir)\n",
    "    return mesh\n",
    "end\n",
    "\n",
    "function assembleK(Uh, Ph, tndof, D)\n",
    "    function integrate!(ass, elits, qpits, D)"
   ],
   "metadata": {},
   "execution_count": null
  },
  {
   "cell_type": "markdown",
   "source": [
    "Consider the elementwise definition of the test strain rate, ``\n",
    "{\\underline{\\varepsilon}}(\\underline{\\delta v})``. It is calculated\n",
    "from the elementwise degrees of freedom and the associated basis\n",
    "functions  as\n",
    "$$\n",
    "{\\underline{\\varepsilon}}(\\underline{\\delta v}) =\n",
    " \\sum_i{\\delta V}_i {\\underline{B}_{c(i)}(N_i)}\n",
    "$$\n",
    "where ``i = 1, \\ldots, n_{du}``, and ``n_{du}`` is the number of\n",
    "velocity degrees of freedom per element, ``c(i)`` is the number of\n",
    "the component corresponding to the degree of freedom ``i``. This is\n",
    "either 1 when degree of freedom ``i`` is the ``x``-component of the\n",
    "velocity, 2 otherwise(for the ``y``-component of the velocity).\n",
    "Analogously for the trial strain rate."
   ],
   "metadata": {}
  },
  {
   "cell_type": "markdown",
   "source": [
    "The strain-rate/velocity matrices are defined as\n",
    "$$\n",
    "{\\underline{B}_{1}(N_i)} =\n",
    "\\left[\\begin{array}{c}\n",
    "     \\partial{N_i}/\\partial{x}  \\\\\n",
    "     0 \\\\\n",
    "     \\partial{N_i}/\\partial{y}\n",
    "\\end{array}\\right],\n",
    "$$\n",
    "and\n",
    "$$\n",
    "{\\underline{B}_{2}(N_i)} =\n",
    "\\left[\\begin{array}{c}\n",
    "     0 \\\\\n",
    "     \\partial{N_i}/\\partial{y}  \\\\\n",
    "     \\partial{N_i}/\\partial{x}\n",
    "\\end{array}\\right].\n",
    "$$\n",
    "This tiny function evaluates the strain-rate/velocity matrices defined above\n",
    "from the gradient of a basis function and the given number of the\n",
    "component corresponding to the current degree of freedom."
   ],
   "metadata": {}
  },
  {
   "outputs": [],
   "cell_type": "code",
   "source": [
    "        B = (g, k) -> (k == 1 ?\n",
    "            SVector{3}((g[1], 0, g[2])) :\n",
    "            SVector{3}((0, g[2], g[1])))"
   ],
   "metadata": {},
   "execution_count": null
  },
  {
   "cell_type": "markdown",
   "source": [
    "This array defines the components for the element degrees of freedom,\n",
    "as defined above as ``c(i)``."
   ],
   "metadata": {}
  },
  {
   "outputs": [],
   "cell_type": "code",
   "source": [
    "        c = edofcompnt(Uh)"
   ],
   "metadata": {},
   "execution_count": null
  },
  {
   "cell_type": "markdown",
   "source": [
    "These are the totals of the velocity and pressure degrees of freedom\n",
    "per element."
   ],
   "metadata": {}
  },
  {
   "outputs": [],
   "cell_type": "code",
   "source": [
    "        n_du, n_dp = ndofsperel.((Uh, Ph))"
   ],
   "metadata": {},
   "execution_count": null
  },
  {
   "cell_type": "markdown",
   "source": [
    "The local matrix assemblers are used as if they were ordinary\n",
    "elementwise dense matrices. Here they are defined."
   ],
   "metadata": {}
  },
  {
   "outputs": [],
   "cell_type": "code",
   "source": [
    "        kuu = LocalMatrixAssembler(n_du, n_du, 0.0)\n",
    "        kup = LocalMatrixAssembler(n_du, n_dp, 0.0)\n",
    "        for el in zip(elits...)\n",
    "            uel, pel = el"
   ],
   "metadata": {},
   "execution_count": null
  },
  {
   "cell_type": "markdown",
   "source": [
    "The local matrix assemblers are initialized with zeros for the\n",
    "values, and with the element degree of freedom vectors to be used\n",
    "in the assembly. The assembler `kuu` is used for the velocity\n",
    "degrees of freedom, and the assembler `kup` collect the coupling\n",
    "coefficients between the velocity and the pressure. The function\n",
    "`eldofs` collects the global numbers of the degrees of freedom\n",
    "either for the velocity space, or for the pressure space\n",
    "(`eldofs(pel)`)."
   ],
   "metadata": {}
  },
  {
   "outputs": [],
   "cell_type": "code",
   "source": [
    "            init!(kuu, eldofs(uel), eldofs(uel))\n",
    "            init!(kup, eldofs(uel), eldofs(pel))\n",
    "            for qp in zip(qpits...)\n",
    "                uqp, pqp = qp"
   ],
   "metadata": {},
   "execution_count": null
  },
  {
   "cell_type": "markdown",
   "source": [
    "The integration is performed using the velocity quadrature points."
   ],
   "metadata": {}
  },
  {
   "outputs": [],
   "cell_type": "code",
   "source": [
    "                Jac, J = jacjac(uel, uqp)\n",
    "                JxW = J * weight(uqp)\n",
    "                gradNu = bfungrad(uqp, Jac) # gradients of the velocity basis functions\n",
    "                Np = bfun(pqp) # pressure basis functions"
   ],
   "metadata": {},
   "execution_count": null
  },
  {
   "cell_type": "markdown",
   "source": [
    "This double loop corresponds precisely to the integrals of the\n",
    "weak form. This is the  matrix in the upper left corner."
   ],
   "metadata": {}
  },
  {
   "outputs": [],
   "cell_type": "code",
   "source": [
    "                for i in 1:n_du\n",
    "                    DBi = D * B(gradNu[i], c[i])\n",
    "                    for j in 1:n_du\n",
    "                        Bj = B(gradNu[j], c[j])\n",
    "                        kuu[j, i] += dot(Bj, DBi) * (JxW)\n",
    "                    end\n",
    "                end"
   ],
   "metadata": {},
   "execution_count": null
  },
  {
   "cell_type": "markdown",
   "source": [
    "And this is the coupling matrix in the top right corner."
   ],
   "metadata": {}
  },
  {
   "outputs": [],
   "cell_type": "code",
   "source": [
    "                for i in 1:n_dp, j in 1:n_du\n",
    "                    kup[j, i] += gradNu[j][c[j]] * (-JxW * Np[i])\n",
    "                end\n",
    "            end"
   ],
   "metadata": {},
   "execution_count": null
  },
  {
   "cell_type": "markdown",
   "source": [
    "Assemble the matrices. The submatrix off the diagonal is assembled\n",
    "twice, once as itself, and once as its transpose."
   ],
   "metadata": {}
  },
  {
   "outputs": [],
   "cell_type": "code",
   "source": [
    "            assemble!(ass, kuu)\n",
    "            assemble!(ass, kup) # top right corner\n",
    "            assemble!(ass, transpose(kup)) # bottom left corner\n",
    "        end\n",
    "        return ass # return the updated assembler of the global matrix\n",
    "    end"
   ],
   "metadata": {},
   "execution_count": null
  },
  {
   "cell_type": "markdown",
   "source": [
    "In the `assembleK` function we first we create the element iterators. We\n",
    "can go through all the elements, both in the velocity finite element\n",
    "space and in the pressure finite element space, that define the domain of\n",
    "integration using this iterator. Each time a new element is accessed,\n",
    "some data are precomputed such as the element degrees of freedom,\n",
    "components of the degree of freedom, etc. Note that we need to iterate\n",
    "two finite element spaces, hence we create a tuple of iterators."
   ],
   "metadata": {}
  },
  {
   "outputs": [],
   "cell_type": "code",
   "source": [
    "    elits = (FEIterator(Uh), FEIterator(Ph))"
   ],
   "metadata": {},
   "execution_count": null
  },
  {
   "cell_type": "markdown",
   "source": [
    "These are the quadrature point iterators. We know that the elements are\n",
    "triangular. We choose the three-point rule, to capture the quadratic\n",
    "component in the velocity space. Quadrature-point iterators provide\n",
    "access to basis function values and gradients, the Jacobian matrix and\n",
    "the Jacobian determinant, the location of the quadrature point and so\n",
    "on. Note that we need to iterate the quadrature rules of\n",
    "two finite element spaces, hence we create a tuple of iterators."
   ],
   "metadata": {}
  },
  {
   "outputs": [],
   "cell_type": "code",
   "source": [
    "    qargs = (kind = :Gauss, order = 2)\n",
    "    qpits = (QPIterator(Uh, qargs), QPIterator(Ph, qargs))"
   ],
   "metadata": {},
   "execution_count": null
  },
  {
   "cell_type": "markdown",
   "source": [
    "The matrix will be assembled into this assembler. Which is initialized\n",
    "with the total number of degrees of freedom (dimension of the coefficient\n",
    "matrix before partitioning into unknowns and data degrees of freedom)."
   ],
   "metadata": {}
  },
  {
   "outputs": [],
   "cell_type": "code",
   "source": [
    "    ass = SysmatAssemblerSparse(0.0)\n",
    "    start!(ass, tndof, tndof)"
   ],
   "metadata": {},
   "execution_count": null
  },
  {
   "cell_type": "markdown",
   "source": [
    "The integration is carried out, and then..."
   ],
   "metadata": {}
  },
  {
   "outputs": [],
   "cell_type": "code",
   "source": [
    "    integrate!(ass, elits, qpits, D)"
   ],
   "metadata": {},
   "execution_count": null
  },
  {
   "cell_type": "markdown",
   "source": [
    "...we materialize the sparse stiffness matrix and return it."
   ],
   "metadata": {}
  },
  {
   "outputs": [],
   "cell_type": "code",
   "source": [
    "    return finish!(ass)\n",
    "end"
   ],
   "metadata": {},
   "execution_count": null
  },
  {
   "cell_type": "markdown",
   "source": [
    "The linear algebraic system is solved by partitioning. The vector `U` is\n",
    "initially all zero, except in the degrees of freedom which are prescribed as\n",
    "nonzero. Therefore the product of the stiffness matrix and the vector `U`\n",
    "are the loads due to nonzero essential boundary conditions.  The\n",
    "submatrix of the stiffness conduction matrix corresponding to the free degrees of\n",
    "freedom (unknowns), `K[1:nu, 1:nu]` is then used to solve for the unknowns `U\n",
    "[1:nu]`."
   ],
   "metadata": {}
  },
  {
   "outputs": [],
   "cell_type": "code",
   "source": [
    "function solve!(U, K, F, nu)\n",
    "    KT = K * U\n",
    "    U[1:nu] = K[1:nu, 1:nu] \\ (F[1:nu] - KT[1:nu])\n",
    "end"
   ],
   "metadata": {},
   "execution_count": null
  },
  {
   "cell_type": "markdown",
   "source": [
    "The function `evaluate_pressure_error` evaluates the true ``L^2``  error of\n",
    "the pressure. It does that by integrating the square of the difference\n",
    "between the approximate pressure and the  true pressure, the true pressure\n",
    "being provided by the `truep` function."
   ],
   "metadata": {}
  },
  {
   "outputs": [],
   "cell_type": "code",
   "source": [
    "function evaluate_pressure_error(Ph, truep)\n",
    "    function integrate!(elit, qpit, truep)\n",
    "        n_dp = ndofsperel(elit)\n",
    "        E = 0.0\n",
    "        for el in elit\n",
    "            dofvals = eldofvals(el)\n",
    "            for qp in qpit\n",
    "                Jac, J = jacjac(el, qp)\n",
    "                JxW = J * weight(qp)\n",
    "                Np = bfun(qp)\n",
    "                pt = truep(location(el, qp)...)\n",
    "                pa = 0.0\n",
    "                for j in 1:n_dp\n",
    "                    pa += (dofvals[j] * Np[j])\n",
    "                end\n",
    "                E += (JxW) * (pa - pt)^2\n",
    "            end\n",
    "        end\n",
    "        return sqrt(E)\n",
    "    end\n",
    "\n",
    "    elit = FEIterator(Ph)\n",
    "    qargs = (kind = :Gauss, order = 2)\n",
    "    qpit = QPIterator(Ph, qargs)\n",
    "    return integrate!(elit, qpit, truep)\n",
    "end"
   ],
   "metadata": {},
   "execution_count": null
  },
  {
   "cell_type": "markdown",
   "source": [
    "The function `evaluate_velocity_error` evaluates the true ``L^2``  error of\n",
    "the velocity. It does that by integrating the square of the difference\n",
    "between the approximate pressure and the  true velocity, the true velocity\n",
    "being provided by the `trueux`, `trueuy` functions."
   ],
   "metadata": {}
  },
  {
   "outputs": [],
   "cell_type": "code",
   "source": [
    "function evaluate_velocity_error(Uh, trueux, trueuy)\n",
    "    function integrate!(elit, qpit, trueux, trueuy)\n",
    "        n_du = ndofsperel(elit)\n",
    "        uedofcomp = edofcompnt(Uh)\n",
    "        E = 0.0\n",
    "        for el in elit\n",
    "            udofvals = eldofvals(el)\n",
    "            for qp in qpit\n",
    "                Jac, J = jacjac(el, qp)\n",
    "                JxW = J * weight(qp)\n",
    "                Nu = bfun(qp)\n",
    "                uxt = trueux(location(el, qp)...)\n",
    "                uyt = trueuy(location(el, qp)...)\n",
    "                uxa = 0.0\n",
    "                uya = 0.0\n",
    "                for j in 1:n_du\n",
    "                    (uedofcomp[j] == 1) && (uxa += (udofvals[j] * Nu[j]))\n",
    "                    (uedofcomp[j] == 2) && (uya += (udofvals[j] * Nu[j]))\n",
    "                end\n",
    "                E += (JxW) * ((uxa - uxt)^2 + (uya - uyt)^2)\n",
    "            end\n",
    "        end\n",
    "        return sqrt(E)\n",
    "    end\n",
    "\n",
    "    elit = FEIterator(Uh)\n",
    "    qargs = (kind = :Gauss, order = 2)\n",
    "    qpit = QPIterator(Uh, qargs)\n",
    "    return integrate!(elit, qpit, trueux, trueuy)\n",
    "end\n",
    "\n",
    "end"
   ],
   "metadata": {},
   "execution_count": null
  },
  {
   "cell_type": "markdown",
   "source": [
    "To run the example, evaluate this file which will  compile the module\n",
    "`.tut_stokes_q1_q0_gen`."
   ],
   "metadata": {}
  },
  {
   "outputs": [],
   "cell_type": "code",
   "source": [
    "using .tut_stokes_q1_q0_gen\n",
    "tut_stokes_q1_q0_gen.run()"
   ],
   "metadata": {},
   "execution_count": null
  },
  {
   "cell_type": "markdown",
   "source": [
    "---\n",
    "\n",
    "*This notebook was generated using [Literate.jl](https://github.com/fredrikekre/Literate.jl).*"
   ],
   "metadata": {}
  }
 ],
 "nbformat_minor": 3,
 "metadata": {
  "language_info": {
   "file_extension": ".jl",
   "mimetype": "application/julia",
   "name": "julia",
   "version": "1.6.0-DEV.227"
  },
  "kernelspec": {
   "name": "julia-1.6",
   "display_name": "Julia 1.6.0-DEV.227",
   "language": "julia"
  }
 },
 "nbformat": 4
}
